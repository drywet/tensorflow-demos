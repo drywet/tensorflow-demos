{
 "nbformat": 4,
 "nbformat_minor": 0,
 "metadata": {
  "colab": {
   "provenance": [],
   "gpuType": "V100",
   "machine_shape": "hm"
  },
  "kernelspec": {
   "name": "python3",
   "display_name": "Python 3"
  },
  "language_info": {
   "name": "python"
  },
  "accelerator": "GPU"
 },
 "cells": [
  {
   "cell_type": "code",
   "source": [
    "!pip install -q tensorflow Pillow matplotlib seaborn numpy pandas"
   ],
   "metadata": {
    "id": "T-9cNOrXHntN"
   },
   "execution_count": null,
   "outputs": []
  },
  {
   "cell_type": "code",
   "source": [
    "# !pip install -q cudf-cu11 --extra-index-url=https://pypi.nvidia.com"
   ],
   "metadata": {
    "id": "cmNbQuWwnev4"
   },
   "execution_count": null,
   "outputs": []
  },
  {
   "cell_type": "code",
   "execution_count": null,
   "metadata": {
    "id": "hERqF9HU-sVU",
    "colab": {
     "base_uri": "https://localhost:8080/"
    },
    "outputId": "f7a720b4-5929-4799-c525-21a82ed24762"
   },
   "outputs": [],
   "source": [
    "import os\n",
    "import re\n",
    "import string\n",
    "from pathlib import Path\n",
    "from shutil import copyfileobj\n",
    "from urllib.request import urlopen\n",
    "\n",
    "# import cudf # cudf\n",
    "import matplotlib.pyplot as plt\n",
    "import seaborn as sns\n",
    "import numpy as np\n",
    "import tensorflow as tf\n",
    "from tensorflow.keras import layers\n",
    "import json\n",
    "from random import shuffle\n",
    "import pandas as pd\n",
    "import datetime\n",
    "\n",
    "import zipfile\n",
    "\n",
    "print(f\"TF version: {tf.__version__}\")"
   ]
  },
  {
   "cell_type": "code",
   "source": [
    "# %load_ext cudf.pandas"
   ],
   "metadata": {
    "id": "5FlrhQDTn7E9"
   },
   "execution_count": null,
   "outputs": []
  },
  {
   "cell_type": "code",
   "source": [
    "def archive(dir: Path):\n",
    "    with zipfile.ZipFile(f\"{dir}.zip\", \"w\", zipfile.ZIP_DEFLATED) as zip_file:\n",
    "        for entry in dir.rglob(\"*\"):\n",
    "            zip_file.write(entry, entry.relative_to(dir))\n",
    "\n",
    "\n",
    "def unarchive(file: Path):\n",
    "    with zipfile.ZipFile(file, \"r\") as zip_file:\n",
    "        zip_file.extractall(file.with_suffix(\"\"))"
   ],
   "metadata": {
    "id": "bj4CKNm_Htcz"
   },
   "execution_count": null,
   "outputs": []
  },
  {
   "cell_type": "code",
   "source": [
    "def download_file(url, dataset_file_path):\n",
    "    path = Path(dataset_file_path)\n",
    "    os.makedirs(path.parent, exist_ok=True)\n",
    "    if not path.exists():\n",
    "        print(f\"Downloading {path}\")\n",
    "        with urlopen(url) as fsrc, open(path, \"wb\") as fdst:\n",
    "            copyfileobj(fsrc, fdst)\n",
    "    else:\n",
    "        print(f\"File {path} exists\")"
   ],
   "metadata": {
    "id": "gPEV-MJbHxpK"
   },
   "execution_count": null,
   "outputs": []
  },
  {
   "cell_type": "code",
   "source": [],
   "metadata": {
    "id": "C4pTahxvHyTl"
   },
   "execution_count": null,
   "outputs": []
  },
  {
   "cell_type": "code",
   "source": [
    "dataset_path = \"tmp/time_series_prediction\"\n",
    "batch_size = 2048\n",
    "sequence_stride = 1"
   ],
   "metadata": {
    "id": "wiExYzkXHzli"
   },
   "execution_count": null,
   "outputs": []
  },
  {
   "cell_type": "code",
   "source": [
    "download_file(\"https://storage.googleapis.com/tensorflow/tf-keras-datasets/jena_climate_2009_2016.csv.zip\",\n",
    "              f\"{dataset_path}.zip\")"
   ],
   "metadata": {
    "id": "RLyij57MHzzL",
    "colab": {
     "base_uri": "https://localhost:8080/"
    },
    "outputId": "b246ee79-7c9d-4244-9ed7-151e5fb74f84"
   },
   "execution_count": null,
   "outputs": []
  },
  {
   "cell_type": "code",
   "source": [
    "unarchive(Path(f\"{dataset_path}.zip\"))"
   ],
   "metadata": {
    "id": "CXkznw0KH0Zb"
   },
   "execution_count": null,
   "outputs": []
  },
  {
   "cell_type": "code",
   "source": [
    "df = pd.read_csv(f\"{dataset_path}/jena_climate_2009_2016.csv\", delimiter=\",\", index_col=[0], dtype=str)"
   ],
   "metadata": {
    "id": "KOxXgtAIH8Kp"
   },
   "execution_count": null,
   "outputs": []
  },
  {
   "cell_type": "code",
   "source": [
    "df"
   ],
   "metadata": {
    "colab": {
     "base_uri": "https://localhost:8080/",
     "height": 455
    },
    "id": "b6gcs-M7H-Oh",
    "outputId": "28a0634a-865d-4301-dd07-fb37d645aa43"
   },
   "execution_count": null,
   "outputs": []
  },
  {
   "cell_type": "code",
   "source": [
    "df.index = pd.to_datetime(df.index, format=\"%d.%m.%Y %H:%M:%S\")"
   ],
   "metadata": {
    "id": "4UtY2miDBMeH"
   },
   "execution_count": null,
   "outputs": []
  },
  {
   "cell_type": "code",
   "source": [
    "df = df.apply(pd.to_numeric)"
   ],
   "metadata": {
    "id": "UWhgihD6IJYQ"
   },
   "execution_count": null,
   "outputs": []
  },
  {
   "cell_type": "code",
   "source": [
    "def deduplicate(df):\n",
    "  return df[~df.index.duplicated(keep=\"first\")]\n",
    "\n",
    "df = deduplicate(df)"
   ],
   "metadata": {
    "id": "M9jl9xKz8WqE"
   },
   "execution_count": null,
   "outputs": []
  },
  {
   "cell_type": "code",
   "source": [
    "sample_period_s = df.index[1].timestamp() - df.index[0].timestamp()\n",
    "sample_period_s"
   ],
   "metadata": {
    "colab": {
     "base_uri": "https://localhost:8080/"
    },
    "id": "glhrx17bsdVq",
    "outputId": "4e3f9963-f68c-4c1f-ddc8-b22685c129ee"
   },
   "execution_count": null,
   "outputs": []
  },
  {
   "cell_type": "code",
   "source": [
    "def seconds_to_hms(seconds):\n",
    "  import datetime\n",
    "  from datetime import datetime as dt\n",
    "  return str(datetime.timedelta(seconds=seconds))"
   ],
   "metadata": {
    "id": "LSTvq3-ctdjv"
   },
   "execution_count": null,
   "outputs": []
  },
  {
   "cell_type": "code",
   "source": [
    "# Uneven data points\n",
    "[(index, i, seconds_to_hms(diff_s)) for index, i, diff_s in zip(df.index, range(df.size), np.diff(df.index.map(lambda x: x.timestamp()))) if diff_s != sample_period_s]"
   ],
   "metadata": {
    "colab": {
     "base_uri": "https://localhost:8080/"
    },
    "id": "1i5bMVhK1ed9",
    "outputId": "9bd7a7ed-e14f-4487-ed5b-9b78f2121136"
   },
   "execution_count": null,
   "outputs": []
  },
  {
   "cell_type": "code",
   "source": [
    "# os.makedirs(f\"{dataset_path}/processed\", exist_ok=True)\n",
    "# df.to_csv(f\"{dataset_path}/processed/jena_climate_2009_2016_processed.csv\")\n",
    "# archive(Path(f\"{dataset_path}/processed\"))"
   ],
   "metadata": {
    "id": "zUETYuMj1lx4"
   },
   "execution_count": null,
   "outputs": []
  },
  {
   "cell_type": "code",
   "source": [],
   "metadata": {
    "id": "iEGXrFGe1JwH"
   },
   "execution_count": null,
   "outputs": []
  },
  {
   "cell_type": "code",
   "source": [
    "hour_s = 60 * 60\n",
    "day_s = 24 * hour_s\n",
    "week_s = 7 * day_s\n",
    "year_s = (365 * 3 + 366) / 4.0 * day_s\n",
    "month_s = year_s / 12\n",
    "year_months = year_s / month_s\n",
    "year_weeks = year_s / week_s\n",
    "year_days = year_s / day_s\n",
    "year_hours = year_s / hour_s"
   ],
   "metadata": {
    "id": "1dhJlbUwIEEw"
   },
   "execution_count": null,
   "outputs": []
  },
  {
   "cell_type": "code",
   "source": [
    "samples_per_year = year_s / sample_period_s\n",
    "dataset_years = len(df) / samples_per_year\n",
    "dataset_years"
   ],
   "metadata": {
    "id": "W3JB6y7KIExg",
    "colab": {
     "base_uri": "https://localhost:8080/"
    },
    "outputId": "1f773774-f609-4745-c600-ea8c3751b9d0"
   },
   "execution_count": null,
   "outputs": []
  },
  {
   "cell_type": "code",
   "source": [
    "def plot_df(df):\n",
    "  colors = plt.rcParams[\"axes.prop_cycle\"]()\n",
    "  f, ax = plt.subplots(nrows=len(df.columns), figsize=(15, 15), sharex=True)\n",
    "  for index, column in enumerate(df.columns):\n",
    "    ax[index].plot(df.index, df[column], label=column, color=next(colors)[\"color\"])\n",
    "    ax[index].legend(loc=\"upper left\")\n",
    "  _ = plt.show()\n",
    "\n",
    "plot_df(df)"
   ],
   "metadata": {
    "id": "NlV5qhD2ATVK",
    "colab": {
     "base_uri": "https://localhost:8080/",
     "height": 1000
    },
    "outputId": "2affe475-0b8b-4326-b838-d78a9dc14157"
   },
   "execution_count": null,
   "outputs": []
  },
  {
   "cell_type": "code",
   "source": [
    "# def fix_column(column):\n",
    "#   mean = column.mean()\n",
    "#   threshold = mean * 100\n",
    "#   return column.map(lambda x: x if abs(x) <= abs(threshold) else mean)\n",
    "\n",
    "# for column in df.columns:\n",
    "#   df[column] = fix_column(df[column])"
   ],
   "metadata": {
    "id": "rerMxy1dK_vv"
   },
   "execution_count": null,
   "outputs": []
  },
  {
   "cell_type": "code",
   "source": [
    "# def filter_df(df):\n",
    "#   threshold = df.mean().abs() * 100\n",
    "#   return df.apply(lambda row: row if all(row.abs() <= threshold) else 0, axis=1)\n",
    "\n",
    "# df = filter_df(df)\n",
    "\n",
    "# Faster version\n",
    "\n",
    "def filter_df(df):\n",
    "  threshold = df.mean().abs() * 100\n",
    "  for index, row in df.iterrows():\n",
    "    for column in df.columns:\n",
    "      if abs(row[column]) > threshold[column]:\n",
    "        df.loc[index] = 0\n",
    "\n",
    "filter_df(df)"
   ],
   "metadata": {
    "id": "LqsVSrzItqNU"
   },
   "execution_count": null,
   "outputs": []
  },
  {
   "cell_type": "code",
   "source": [
    "df = df[~(df == 0).all(axis=1)]"
   ],
   "metadata": {
    "id": "oOMMK5PaGk1w"
   },
   "execution_count": null,
   "outputs": []
  },
  {
   "cell_type": "code",
   "source": [
    "plot_df(df)"
   ],
   "metadata": {
    "id": "ATLdG1RBNeEL",
    "colab": {
     "base_uri": "https://localhost:8080/",
     "height": 1000
    },
    "outputId": "48d5b9af-2bf0-4780-9aa8-1dc3afd3ebe6"
   },
   "execution_count": null,
   "outputs": []
  },
  {
   "cell_type": "code",
   "source": [
    "def show_heatmap(data):\n",
    "    plt.matshow(data.corr())\n",
    "    plt.xticks(range(data.shape[1]), data.columns, fontsize=14, rotation=90)\n",
    "    plt.gca().xaxis.tick_bottom()\n",
    "    plt.yticks(range(data.shape[1]), data.columns, fontsize=14)\n",
    "\n",
    "    cb = plt.colorbar()\n",
    "    cb.ax.tick_params(labelsize=14)\n",
    "    plt.title(\"Feature Correlation Heatmap\", fontsize=14)\n",
    "    plt.show()\n",
    "\n",
    "\n",
    "show_heatmap(df)"
   ],
   "metadata": {
    "id": "ZND5LJsaK2sr",
    "colab": {
     "base_uri": "https://localhost:8080/",
     "height": 564
    },
    "outputId": "6a76efb2-1aa5-4598-9d99-e3968dcf22de"
   },
   "execution_count": null,
   "outputs": []
  },
  {
   "cell_type": "code",
   "source": [
    "# Features"
   ],
   "metadata": {
    "id": "HHPu1s8yBkVo"
   },
   "execution_count": null,
   "outputs": []
  },
  {
   "cell_type": "code",
   "source": [
    "df[\"wd (deg) sin\"] = np.sin(df[\"wd (deg)\"] / 180 * np.pi)\n",
    "df[\"wd (deg) cos\"] = np.cos(df[\"wd (deg)\"] / 180 * np.pi)\n",
    "df = df.drop(\"wd (deg)\", axis=1)\n",
    "df[\"wd x\"] = df[\"wv (m/s)\"] * df[\"wd (deg) cos\"]\n",
    "df[\"wd y\"] = df[\"wv (m/s)\"] * df[\"wd (deg) sin\"]"
   ],
   "metadata": {
    "id": "oiFI0aMxVi_5"
   },
   "execution_count": null,
   "outputs": []
  },
  {
   "cell_type": "code",
   "source": [
    "fft = tf.signal.rfft(df[\"T (degC)\"])\n",
    "f_per_year = np.arange(0, len(fft)) / dataset_years\n",
    "plt.step(x=f_per_year, y=np.abs(fft))\n",
    "plt.xscale(\"log\")\n",
    "plt.xlim([0.1, max(plt.xlim())])\n",
    "plt.xticks([1, year_months, year_weeks, year_days, year_hours],\n",
    "           labels=[\"1/year\", \"1/month\", \"1/week\", \"1/day\", \"1/hour\"])\n",
    "plt.xlabel(\"Frequency (log scale)\")\n",
    "_ = plt"
   ],
   "metadata": {
    "colab": {
     "base_uri": "https://localhost:8080/",
     "height": 465
    },
    "id": "b3FsnhQPIG1I",
    "outputId": "ee454103-f8be-4e35-e626-3a274a4c4794"
   },
   "execution_count": null,
   "outputs": []
  },
  {
   "cell_type": "code",
   "source": [
    "df[\"day sin\"] = np.sin(df.index.map(lambda x: x.timestamp()) * (2 * np.pi / day_s))\n",
    "df[\"day cos\"] = np.cos(df.index.map(lambda x: x.timestamp()) * (2 * np.pi / day_s))\n",
    "df[\"week sin\"] = np.sin(df.index.map(lambda x: x.timestamp()) * (2 * np.pi / week_s))\n",
    "df[\"week cos\"] = np.cos(df.index.map(lambda x: x.timestamp()) * (2 * np.pi / week_s))\n",
    "df[\"year sin\"] = np.sin(df.index.map(lambda x: x.timestamp()) * (2 * np.pi / year_s))\n",
    "df[\"year cos\"] = np.cos(df.index.map(lambda x: x.timestamp()) * (2 * np.pi / year_s))\n",
    "date_features = [\"day sin\", \"day cos\", \"week sin\", \"week cos\", \"year sin\", \"year cos\"]\n",
    "date_feature_count = len(date_features)"
   ],
   "metadata": {
    "id": "WLQm5Nn8IHqI"
   },
   "execution_count": null,
   "outputs": []
  },
  {
   "cell_type": "code",
   "source": [
    "plt.plot(np.array(df[\"day sin\"])[:int(day_s / sample_period_s)])\n",
    "plt.plot(np.array(df[\"day cos\"])[:int(day_s / sample_period_s)])\n",
    "plt.xlabel(\"Sample index\")\n",
    "plt.title(\"Time of day sin/cos\")\n",
    "_ = plt"
   ],
   "metadata": {
    "colab": {
     "base_uri": "https://localhost:8080/",
     "height": 472
    },
    "id": "14aCKHK8IIWQ",
    "outputId": "5f6707c6-3ffb-4004-e2cc-8e589a48208e"
   },
   "execution_count": null,
   "outputs": []
  },
  {
   "cell_type": "code",
   "source": [
    "plt.plot(np.array(df[\"week sin\"])[:int(week_s / sample_period_s)])\n",
    "plt.plot(np.array(df[\"week cos\"])[:int(week_s / sample_period_s)])\n",
    "plt.xlabel(\"Sample index\")\n",
    "plt.title(\"Week sin/cos\")\n",
    "_ = plt"
   ],
   "metadata": {
    "colab": {
     "base_uri": "https://localhost:8080/",
     "height": 472
    },
    "id": "bIXpyBAOZHNv",
    "outputId": "9b97d37d-1081-4c0b-f205-b0425c04221a"
   },
   "execution_count": null,
   "outputs": []
  },
  {
   "cell_type": "code",
   "source": [],
   "metadata": {
    "id": "iW5dzESTIJYI"
   },
   "execution_count": null,
   "outputs": []
  },
  {
   "cell_type": "code",
   "source": [
    "split_size = 0.8\n",
    "train_df = df[:int(len(df) * split_size)]\n",
    "val_df = df[len(train_df):]"
   ],
   "metadata": {
    "id": "upCBbW6iILuP"
   },
   "execution_count": null,
   "outputs": []
  },
  {
   "cell_type": "code",
   "source": [
    "train_mean = train_df.mean()\n",
    "train_std = train_df.std()\n",
    "df = (df - train_mean) / train_std"
   ],
   "metadata": {
    "id": "6KpGeX-0IMFp"
   },
   "execution_count": null,
   "outputs": []
  },
  {
   "cell_type": "code",
   "source": [
    "start_ts = df.index[0]\n",
    "end_ts = df.index[-1]\n",
    "\n",
    "for ts in pd.date_range(start_ts, end_ts, freq=f\"{sample_period_s}S\"):\n",
    "  if ts not in df.index:\n",
    "    df.loc[ts] = 0 # A timestep is masked in TF only if all features are 0, so should be ok for cases when only a few features are 0\n",
    "\n",
    "df = df.sort_index()\n",
    "\n",
    "assert np.all(np.diff(df.index.map(lambda x: x.timestamp())) == sample_period_s)"
   ],
   "metadata": {
    "id": "NqJjYNFhOOyY"
   },
   "execution_count": null,
   "outputs": []
  },
  {
   "cell_type": "code",
   "source": [
    "plot_df(df)"
   ],
   "metadata": {
    "colab": {
     "base_uri": "https://localhost:8080/",
     "height": 1000
    },
    "id": "E6bCfPRhOQit",
    "outputId": "ec69a62c-5a14-4fff-edf5-760cda2f96ba"
   },
   "execution_count": null,
   "outputs": []
  },
  {
   "cell_type": "code",
   "source": [
    "train_df = df[:int(len(df) * split_size)]\n",
    "val_df = df[len(train_df):]"
   ],
   "metadata": {
    "id": "QIl2lQx9P3GV"
   },
   "execution_count": null,
   "outputs": []
  },
  {
   "cell_type": "code",
   "source": [
    "df_normalized = df.melt(var_name=\"Column\", value_name=\"Normalized\")\n",
    "plt.figure(figsize=(12, 6))\n",
    "ax = sns.violinplot(x=\"Column\", y=\"Normalized\", data=df_normalized)\n",
    "_ = ax.set_xticklabels(df.keys(), rotation=90)"
   ],
   "metadata": {
    "id": "LaT2ZHhHIN7H",
    "colab": {
     "base_uri": "https://localhost:8080/",
     "height": 656
    },
    "outputId": "032bfb1f-704a-4e3a-a450-a9ddd336af18"
   },
   "execution_count": null,
   "outputs": []
  },
  {
   "cell_type": "code",
   "source": [
    "list(tf.keras.utils.timeseries_dataset_from_array(\n",
    "    [1, 2, 3, 4, 5, 6, 7],\n",
    "    targets=None,\n",
    "    sequence_length=4,\n",
    "    sequence_stride=3,\n",
    "    batch_size=batch_size,\n",
    "    shuffle=False,\n",
    ").as_numpy_iterator())"
   ],
   "metadata": {
    "id": "IlnfvRd6IRKY",
    "colab": {
     "base_uri": "https://localhost:8080/"
    },
    "outputId": "c76180ea-d395-494a-e001-aa1fddca382e"
   },
   "execution_count": null,
   "outputs": []
  },
  {
   "cell_type": "code",
   "source": [
    "sequence_length = int(day_s * 5 / sample_period_s)\n",
    "sequence_length"
   ],
   "metadata": {
    "colab": {
     "base_uri": "https://localhost:8080/"
    },
    "id": "u204OkARiP_Y",
    "outputId": "19df417e-7b90-4577-f6ba-cc799829c1f7"
   },
   "execution_count": null,
   "outputs": []
  },
  {
   "cell_type": "code",
   "source": [
    "prediction_length = int(day_s / sample_period_s)\n",
    "prediction_length"
   ],
   "metadata": {
    "colab": {
     "base_uri": "https://localhost:8080/"
    },
    "id": "ImuJGTkeif2f",
    "outputId": "7a0666ee-5b1b-40ca-9270-7ff9821e9128"
   },
   "execution_count": null,
   "outputs": []
  },
  {
   "cell_type": "code",
   "source": [
    "def make_dataset(df):\n",
    "    return tf.keras.utils.timeseries_dataset_from_array(\n",
    "        np.array(df, dtype=np.float16),\n",
    "        targets=None,\n",
    "        sequence_length=sequence_length + prediction_length,\n",
    "        sequence_stride=sequence_stride,\n",
    "        batch_size=batch_size,\n",
    "        shuffle=False,\n",
    "    ).map(lambda x: (x[:, :sequence_length], x[:, sequence_length:]))\n",
    "\n",
    "\n",
    "# next(make_dataset(train_df).as_numpy_iterator())[1]"
   ],
   "metadata": {
    "id": "qFD-rzUzIRXn"
   },
   "execution_count": null,
   "outputs": []
  },
  {
   "cell_type": "code",
   "source": [
    "train_df"
   ],
   "metadata": {
    "id": "FSohTGJf7SrZ",
    "colab": {
     "base_uri": "https://localhost:8080/",
     "height": 455
    },
    "outputId": "7dd613fc-ba62-409a-b089-fee5b4f0c529"
   },
   "execution_count": null,
   "outputs": []
  },
  {
   "cell_type": "code",
   "source": [
    "len(next(make_dataset(train_df).as_numpy_iterator())[1][0])"
   ],
   "metadata": {
    "id": "gr5odawZ6mv_",
    "colab": {
     "base_uri": "https://localhost:8080/"
    },
    "outputId": "bf4adf9f-acbe-4bbf-9f6f-dfab759b8d77"
   },
   "execution_count": null,
   "outputs": []
  },
  {
   "cell_type": "code",
   "source": [
    "feature_count = len(train_df.columns)\n",
    "predicted_feature_count = feature_count - date_feature_count"
   ],
   "metadata": {
    "id": "8hvXupS_rO8z"
   },
   "execution_count": null,
   "outputs": []
  },
  {
   "cell_type": "code",
   "source": [
    "predicted_col_index = train_df.columns.get_loc(\"T (degC)\")\n",
    "# train_dataset = make_dataset(train_df).map(lambda seq, latest: (seq, latest[:, predicted_col_index]))\n",
    "# val_dataset = make_dataset(val_df).map(lambda seq, latest: (seq, latest[:, predicted_col_index]))\n",
    "train_dataset = make_dataset(train_df).map(lambda seq, pred: (seq, pred[:, :, :predicted_feature_count]))\n",
    "val_dataset = make_dataset(val_df).map(lambda seq, pred: (seq, pred[:, :, :predicted_feature_count]))"
   ],
   "metadata": {
    "id": "rJmudemLISLv"
   },
   "execution_count": null,
   "outputs": []
  },
  {
   "cell_type": "code",
   "source": [
    "len(train_df)"
   ],
   "metadata": {
    "id": "83BvDJAlITHW",
    "colab": {
     "base_uri": "https://localhost:8080/"
    },
    "outputId": "83fbf792-7167-42e6-e417-5a44321f6072"
   },
   "execution_count": null,
   "outputs": []
  },
  {
   "cell_type": "code",
   "source": [
    "sum(len(batch[0]) for batch in train_dataset.as_numpy_iterator())"
   ],
   "metadata": {
    "id": "3s3wmI3TIT6u",
    "colab": {
     "base_uri": "https://localhost:8080/"
    },
    "outputId": "104f1e22-b834-44e5-a556-265b5bf341c7"
   },
   "execution_count": null,
   "outputs": []
  },
  {
   "cell_type": "code",
   "source": [
    "train_df.columns"
   ],
   "metadata": {
    "id": "unzaphSqIUjP",
    "colab": {
     "base_uri": "https://localhost:8080/"
    },
    "outputId": "f0f37466-d81f-4c42-808e-d0d07c57d6aa"
   },
   "execution_count": null,
   "outputs": []
  },
  {
   "cell_type": "code",
   "source": [
    "next(train_dataset.as_numpy_iterator())[0].shape"
   ],
   "metadata": {
    "id": "VT8PG1g-Gx2p",
    "colab": {
     "base_uri": "https://localhost:8080/"
    },
    "outputId": "de0892d4-0d17-4ff1-f500-e02cb766e33b"
   },
   "execution_count": null,
   "outputs": []
  },
  {
   "cell_type": "code",
   "source": [
    "next(train_dataset.as_numpy_iterator())[1].shape"
   ],
   "metadata": {
    "colab": {
     "base_uri": "https://localhost:8080/"
    },
    "id": "Gl858euZsr4J",
    "outputId": "addccf94-ea57-4494-ca6c-c4eaab3fde10"
   },
   "execution_count": null,
   "outputs": []
  },
  {
   "cell_type": "code",
   "source": [
    "(batch_size, prediction_length, predicted_feature_count)"
   ],
   "metadata": {
    "colab": {
     "base_uri": "https://localhost:8080/"
    },
    "id": "_3w5LO31svlR",
    "outputId": "700c1fd2-4259-494e-f2a3-4b3898b2bb43"
   },
   "execution_count": null,
   "outputs": []
  },
  {
   "cell_type": "code",
   "source": [
    "assert next(train_dataset.as_numpy_iterator())[0].shape == (batch_size, sequence_length, feature_count)\n",
    "assert next(train_dataset.as_numpy_iterator())[1].shape == (batch_size, prediction_length, predicted_feature_count)"
   ],
   "metadata": {
    "id": "Db_ZEpGXIV3_"
   },
   "execution_count": null,
   "outputs": []
  },
  {
   "cell_type": "code",
   "source": [],
   "metadata": {
    "id": "Bcsbqrh2lEUY"
   },
   "execution_count": null,
   "outputs": []
  },
  {
   "cell_type": "code",
   "source": [
    "# # Performance of naive prediction returning the previous value\n",
    "# train_naive_pred_dataset = train_dataset.map(lambda seq, latest: (seq[:, -1, predicted_col_index], latest[:, predicted_col_index]))\n",
    "# val_naive_pred_dataset = val_dataset.map(lambda seq, latest: (seq[:, -1, predicted_col_index], latest[:, predicted_col_index]))"
   ],
   "metadata": {
    "id": "uP-3zk0c2ms6"
   },
   "execution_count": null,
   "outputs": []
  },
  {
   "cell_type": "code",
   "source": [
    "# np.array(next(train_naive_pred_dataset.as_numpy_iterator()))"
   ],
   "metadata": {
    "id": "7bGo0vHAY6gJ"
   },
   "execution_count": null,
   "outputs": []
  },
  {
   "cell_type": "code",
   "source": [
    "# model = tf.keras.Sequential([tf.keras.layers.Input((1,))])\n",
    "# model.compile(loss=\"mse\", metrics=[\"mae\"])\n",
    "# model.evaluate(train_naive_pred_dataset)\n",
    "# model.evaluate(val_naive_pred_dataset)\n",
    "# \"\""
   ],
   "metadata": {
    "id": "mwt-s16QjN0-"
   },
   "execution_count": null,
   "outputs": []
  },
  {
   "cell_type": "code",
   "source": [],
   "metadata": {
    "id": "EKUyRlr9EbD1"
   },
   "execution_count": null,
   "outputs": []
  },
  {
   "cell_type": "code",
   "source": [
    "model = tf.keras.Sequential([\n",
    "    tf.keras.layers.Input((sequence_length, feature_count), dtype=np.float16),\n",
    "    tf.keras.layers.Masking(mask_value=0),\n",
    "    tf.keras.layers.Conv1D(filters=128, kernel_size=3, strides=1, padding=\"causal\", activation=\"relu\"),\n",
    "    tf.keras.layers.LSTM(64, return_sequences=True),\n",
    "    tf.keras.layers.LSTM(64, return_sequences=True),\n",
    "    tf.keras.layers.LSTM(64),\n",
    "    tf.keras.layers.Dense(prediction_length * predicted_feature_count),\n",
    "    tf.keras.layers.Reshape((prediction_length, predicted_feature_count))\n",
    "])"
   ],
   "metadata": {
    "id": "1d8NHY1pIWc-"
   },
   "execution_count": null,
   "outputs": []
  },
  {
   "cell_type": "code",
   "source": [
    "model.summary()"
   ],
   "metadata": {
    "id": "X9BYLEkvIXJf",
    "colab": {
     "base_uri": "https://localhost:8080/"
    },
    "outputId": "76d2a411-a491-420f-8925-e734ec5b7826"
   },
   "execution_count": null,
   "outputs": []
  },
  {
   "cell_type": "code",
   "source": [
    "model.compile(\n",
    "    optimizer=tf.keras.optimizers.AdamW(learning_rate=1e-3),\n",
    "    loss=\"mse\",\n",
    "    metrics=[\"mae\"]\n",
    ")"
   ],
   "metadata": {
    "id": "308oe9RNIYEI"
   },
   "execution_count": null,
   "outputs": []
  },
  {
   "cell_type": "code",
   "source": [
    "# checkpoint_callback = tf.keras.callbacks.ModelCheckpoint(\n",
    "#     filepath=f\"tmp/checkpoints\",\n",
    "#     save_weights_only=False,\n",
    "#     monitor=f\"val_acc\",\n",
    "#     save_best_only=True,\n",
    "# )\n",
    "reduce_lr_callback = tf.keras.callbacks.ReduceLROnPlateau(\n",
    "    monitor=f\"val_loss\",\n",
    ")\n",
    "early_stopping_callback = tf.keras.callbacks.EarlyStopping(\n",
    "    monitor=\"val_loss\",\n",
    "    min_delta=1e-4,\n",
    "    patience=15,\n",
    "    verbose=1,\n",
    "    restore_best_weights=True,\n",
    "    # restore_best_weights=False,\n",
    "    start_from_epoch=0\n",
    ")"
   ],
   "metadata": {
    "id": "bTTS0LlwIZAR"
   },
   "execution_count": null,
   "outputs": []
  },
  {
   "cell_type": "code",
   "source": [
    "epochs = 5\n",
    "history = model.fit(\n",
    "    x=train_dataset.unbatch().shuffle(int(len(df) / 5)).batch(batch_size),\n",
    "    # x=train_dataset.map(lambda x, y: (x[:, :, power_col_index], y)),\n",
    "    epochs=epochs,\n",
    "    # steps_per_epoch=250,\n",
    "    callbacks=[reduce_lr_callback, early_stopping_callback],\n",
    "    validation_data=val_dataset,\n",
    "    # validation_data=val_dataset.map(lambda x, y: (x[:, :, power_col_index], y)),\n",
    "    # validation_steps=20\n",
    ")"
   ],
   "metadata": {
    "id": "NyHRpTKCIZ2f",
    "colab": {
     "base_uri": "https://localhost:8080/"
    },
    "outputId": "d388dc60-2723-4162-d563-ecbc98979497"
   },
   "execution_count": null,
   "outputs": []
  },
  {
   "cell_type": "code",
   "source": [
    "# LSTM only:                  loss: 3.3049 - mae: 0.7508 - val_loss: 4.1626 - val_mae: 1.0015 - lr: 1.0000e-04\n",
    "# LSTM + Conv1D:              loss: 3.3213 - mae: 0.7442 - val_loss: 4.1755 - val_mae: 0.9871 - lr: 1.0000e-04\n",
    "# LSTM without dates sin/cos: loss: 3.6518 - mae: 0.7578 - val_loss: 4.0217 - val_mae: 0.9691 - lr: 1.0000e-05\n",
    "#\n",
    "\n",
    "# sequence_length 1 week:\n",
    "# LSTM + Conv1D:              Epoch 24/100 - 115s 349ms/step - loss: 5.3998e-04 - mae: 0.0155 - val_loss: 5.5193e-04 - val_mae: 0.0152 - lr: 0.0010\n",
    "\n",
    "# sequence_length: 2 days\n",
    "# LSTM + Conv1D:                   Epoch 20/20 - 34s  102ms/step - loss: 5.0597e-04 - mae: 0.0145 - val_loss: 5.4898e-04 - val_mae: 0.0151 - lr: 1.0000e-04\n",
    "# LSTM:             too slow:      Epoch 3/20  - 318s 966ms/step - loss: 0.0017 -     mae: 0.0291 - val_loss: 0.0016 -     val_mae: 0.0270 - lr: 0.0010\n",
    "# LSTM + Conv1D + Dense:           Epoch 20/20 - 35s  107ms/step - loss: 5.7357e-04 - mae: 0.0162 - val_loss: 0.0010 -     val_mae: 0.0229 - lr: 0.0010\n",
    "\n",
    "# All features:\n",
    "# LSTM + Conv1D:                                 34s 102ms/step -  loss: 0.0534 -     mae: 0.1067 - val_loss: 0.0576 -     val_mae: 0.1118 - lr: 0.0010\n",
    "# LSTM + Conv1D 256:               Epoch 20/20 - 49s 149ms/step -  loss: 0.0530 -     mae: 0.1075 - val_loss: 0.0577 -     val_mae: 0.1122 - lr: 0.0010\n"
   ],
   "metadata": {
    "id": "A3a7cG-Kn0BD"
   },
   "execution_count": null,
   "outputs": []
  },
  {
   "cell_type": "code",
   "source": [
    "val_dataset_size = sum(len(batch[0]) for batch in val_dataset.as_numpy_iterator())"
   ],
   "metadata": {
    "id": "uKne0cPp-ZBu"
   },
   "execution_count": null,
   "outputs": []
  },
  {
   "cell_type": "code",
   "source": [
    "val_dataset_size"
   ],
   "metadata": {
    "id": "sRjVjRPh-Z5i",
    "colab": {
     "base_uri": "https://localhost:8080/"
    },
    "outputId": "c5f90ed2-c82d-48a0-bd7d-6d7033d05b50"
   },
   "execution_count": null,
   "outputs": []
  },
  {
   "cell_type": "code",
   "source": [
    "pred_steps = 1 * 10\n",
    "input = next(val_dataset.as_numpy_iterator())[0][0]\n",
    "input_s = val_df.index[0].timestamp()\n",
    "predictions = []\n",
    "for i in range(pred_steps):\n",
    "  preds = model(tf.expand_dims(input, axis=0)).numpy()[0]\n",
    "  for pred in preds:\n",
    "    input_s += sample_period_s\n",
    "    date_features = np.array([\n",
    "        np.sin(input_s * 2 * np.pi / day_s),\n",
    "        np.cos(input_s * 2 * np.pi / day_s),\n",
    "        np.sin(input_s * 2 * np.pi / week_s),\n",
    "        np.cos(input_s * 2 * np.pi / week_s),\n",
    "        np.sin(input_s * 2 * np.pi / year_s),\n",
    "        np.cos(input_s * 2 * np.pi / year_s),\n",
    "    ])\n",
    "    date_features = (date_features - train_mean[predicted_feature_count:]) / train_std[predicted_feature_count:]\n",
    "    pred = np.concatenate([pred, date_features])\n",
    "    predictions.append((input_s, pred))\n",
    "    input = np.concatenate([input[1:], np.expand_dims(pred, axis=0)])"
   ],
   "metadata": {
    "id": "y8o_ed_G-2ab"
   },
   "execution_count": null,
   "outputs": []
  },
  {
   "cell_type": "code",
   "source": [
    "pred_df = pd.DataFrame().reindex_like(df[:0])\n",
    "pred_df = pd.concat([pred_df, pd.DataFrame([p for s, p in predictions], index=[pd.Timestamp(s, unit=\"s\") for s, p in predictions], columns=df.columns)])"
   ],
   "metadata": {
    "id": "MwZCdLKfdE7z"
   },
   "execution_count": null,
   "outputs": []
  },
  {
   "cell_type": "code",
   "source": [
    "actual_df = val_df[1:(1+pred_steps*prediction_length)]"
   ],
   "metadata": {
    "id": "M1Tb2i5REqCW"
   },
   "execution_count": null,
   "outputs": []
  },
  {
   "cell_type": "code",
   "source": [
    "pred_df.shape"
   ],
   "metadata": {
    "id": "ikbNegYY-2c8",
    "colab": {
     "base_uri": "https://localhost:8080/"
    },
    "outputId": "cc4d09af-83c6-4578-da77-c39b94833f94"
   },
   "execution_count": null,
   "outputs": []
  },
  {
   "cell_type": "code",
   "source": [
    "actual_df.shape"
   ],
   "metadata": {
    "id": "2U4pgnxF-4Mr",
    "colab": {
     "base_uri": "https://localhost:8080/"
    },
    "outputId": "fa7772d6-da6b-43c4-e61e-5834bef0be0f"
   },
   "execution_count": null,
   "outputs": []
  },
  {
   "cell_type": "code",
   "source": [
    "assert pred_df.shape == actual_df.shape"
   ],
   "metadata": {
    "id": "RSVF1Uc0_uAD"
   },
   "execution_count": null,
   "outputs": []
  },
  {
   "cell_type": "code",
   "source": [
    "mse = tf.keras.metrics.mean_squared_error(y_true=actual_df.transpose(), y_pred=pred_df.transpose())\n",
    "mae = tf.keras.metrics.mean_absolute_error(y_true=actual_df.transpose(), y_pred=pred_df.transpose())\n",
    "\n",
    "pd.DataFrame([mse.numpy()], columns=df.columns)"
   ],
   "metadata": {
    "id": "0wjHg0cwE5b2",
    "colab": {
     "base_uri": "https://localhost:8080/",
     "height": 110
    },
    "outputId": "dc7c6f80-0d79-49c5-8060-94ec0b0dc693"
   },
   "execution_count": null,
   "outputs": []
  },
  {
   "cell_type": "code",
   "source": [
    "# prediction_length=144, prediction_steps=1        =>  0.108\n",
    "# prediction_length=12,  prediction_steps=12       =>  0.249\n",
    "# prediction_length=12,  prediction_steps=120      =>  0.334\n",
    "# prediction_length=144, prediction_steps=10 fp16  =>  0.405   or 0.355 for 3 epochs\n",
    "# 144*10 fp16 batch_Size 2048   5 epochs   conv1d 128 + extra LSTM layer64        => 0.393793\n"
   ],
   "metadata": {
    "id": "f0aKx-P6JLBj"
   },
   "execution_count": null,
   "outputs": []
  },
  {
   "cell_type": "code",
   "source": [
    "before_after_pred_df = pd.concat([train_df[-len(pred_df)*10:], val_df[0:1], pred_df])"
   ],
   "metadata": {
    "id": "KXIo7B0nQ89_"
   },
   "execution_count": null,
   "outputs": []
  },
  {
   "cell_type": "code",
   "source": [
    "before_after_pred_df.shape"
   ],
   "metadata": {
    "id": "1h6kd2xf-7ih",
    "colab": {
     "base_uri": "https://localhost:8080/"
    },
    "outputId": "2362aeae-c250-4ee1-96f6-b9130aeb16b1"
   },
   "execution_count": null,
   "outputs": []
  },
  {
   "cell_type": "code",
   "source": [
    "plot_df(before_after_pred_df * train_std + train_mean)"
   ],
   "metadata": {
    "id": "GygwjgYakKlj",
    "colab": {
     "base_uri": "https://localhost:8080/",
     "height": 1000
    },
    "outputId": "01a9bb5a-882e-46be-cb5d-597d2108902d"
   },
   "execution_count": null,
   "outputs": []
  },
  {
   "cell_type": "code",
   "source": [
    "before_after_actual_df = pd.concat([train_df[-len(pred_df)*10:], val_df[0:1], val_df[1:(1+pred_steps*prediction_length)]])"
   ],
   "metadata": {
    "id": "XaBjCuF3kQe2"
   },
   "execution_count": null,
   "outputs": []
  },
  {
   "cell_type": "code",
   "source": [
    "before_after_actual_df.shape"
   ],
   "metadata": {
    "id": "CuXxqmYc_VOJ",
    "colab": {
     "base_uri": "https://localhost:8080/"
    },
    "outputId": "adef888a-f063-43b6-8837-bae9cc0aac45"
   },
   "execution_count": null,
   "outputs": []
  },
  {
   "cell_type": "code",
   "source": [
    "assert before_after_pred_df.shape == before_after_actual_df.shape"
   ],
   "metadata": {
    "id": "L8fvnKN9_7xJ"
   },
   "execution_count": null,
   "outputs": []
  },
  {
   "cell_type": "code",
   "source": [
    "plot_df(before_after_actual_df * train_std + train_mean)"
   ],
   "metadata": {
    "id": "vyc4ad_4oBxE",
    "colab": {
     "base_uri": "https://localhost:8080/",
     "height": 1000
    },
    "outputId": "8393fe40-678d-450b-d7ce-6fbc2d68ea97"
   },
   "execution_count": null,
   "outputs": []
  },
  {
   "cell_type": "code",
   "source": [
    "diff_df = before_after_pred_df - before_after_actual_df"
   ],
   "metadata": {
    "id": "speKv-z5oHmz"
   },
   "execution_count": null,
   "outputs": []
  },
  {
   "cell_type": "code",
   "source": [
    "plot_df(diff_df * train_std)"
   ],
   "metadata": {
    "id": "BvUWWUEsonb6",
    "colab": {
     "base_uri": "https://localhost:8080/",
     "height": 1000
    },
    "outputId": "f71d675f-f9bf-4305-88c7-88fb3cac3e86"
   },
   "execution_count": null,
   "outputs": []
  },
  {
   "cell_type": "code",
   "source": [],
   "metadata": {
    "id": "aVO8LWwOEdK3"
   },
   "execution_count": null,
   "outputs": []
  }
 ]
}
