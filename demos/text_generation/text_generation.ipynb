{
 "cells": [
  {
   "cell_type": "code",
   "execution_count": 52,
   "id": "initial_id",
   "metadata": {
    "collapsed": true,
    "ExecuteTime": {
     "end_time": "2023-10-14T22:25:36.498561900Z",
     "start_time": "2023-10-14T22:25:36.419661100Z"
    }
   },
   "outputs": [
    {
     "name": "stdout",
     "output_type": "stream",
     "text": [
      "TF version: 2.14.0\n"
     ]
    }
   ],
   "source": [
    "import os\n",
    "import re\n",
    "import string\n",
    "from pathlib import Path\n",
    "from shutil import copyfileobj\n",
    "from urllib.request import urlopen\n",
    "\n",
    "import matplotlib.pyplot as plt\n",
    "import numpy as np\n",
    "import tensorflow as tf\n",
    "from tensorflow.keras import layers\n",
    "import json\n",
    "from random import shuffle\n",
    "import tiktoken\n",
    "\n",
    "import zipfile\n",
    "\n",
    "print(f\"TF version: {tf.__version__}\")"
   ]
  },
  {
   "cell_type": "code",
   "execution_count": 3,
   "outputs": [],
   "source": [
    "# def archive(dir: Path):\n",
    "#     with zipfile.ZipFile(f\"{dir}.zip\", \"w\", zipfile.ZIP_STORED) as zip_file:\n",
    "#         for entry in dir.rglob(\"*\"):\n",
    "#             zip_file.write(entry, entry.relative_to(dir))\n",
    "# \n",
    "# \n",
    "# def unarchive(file: Path):\n",
    "#     with zipfile.ZipFile(file, \"r\") as zip_file:\n",
    "#         zip_file.extractall(file.with_suffix(\"\"))"
   ],
   "metadata": {
    "collapsed": false,
    "ExecuteTime": {
     "end_time": "2023-10-14T20:12:53.694394Z",
     "start_time": "2023-10-14T20:12:53.664379200Z"
    }
   },
   "id": "982e246dd3db12b3"
  },
  {
   "cell_type": "code",
   "execution_count": 4,
   "outputs": [],
   "source": [
    "def download_file(url, dataset_file_path):\n",
    "    path = Path(dataset_file_path)\n",
    "    os.makedirs(path.parent, exist_ok=True)\n",
    "    if not path.exists():\n",
    "        print(f\"Downloading {path}\")\n",
    "        with urlopen(url) as fsrc, open(path, \"wb\") as fdst:\n",
    "            copyfileobj(fsrc, fdst)\n",
    "    else:\n",
    "        print(f\"File {path} exists\")"
   ],
   "metadata": {
    "collapsed": false,
    "ExecuteTime": {
     "end_time": "2023-10-14T20:12:53.750017300Z",
     "start_time": "2023-10-14T20:12:53.671995300Z"
    }
   },
   "id": "8013daed5f896c17"
  },
  {
   "cell_type": "code",
   "execution_count": 4,
   "outputs": [],
   "source": [],
   "metadata": {
    "collapsed": false,
    "ExecuteTime": {
     "end_time": "2023-10-14T20:12:53.779772800Z",
     "start_time": "2023-10-14T20:12:53.701786200Z"
    }
   },
   "id": "1f6dfce42dcc2ae3"
  },
  {
   "cell_type": "code",
   "execution_count": 113,
   "outputs": [],
   "source": [
    "dataset_path = \"tmp/text_generation.json\"\n",
    "batch_size = 1024\n",
    "seed = 123\n",
    "max_seq_length = 100"
   ],
   "metadata": {
    "collapsed": false,
    "ExecuteTime": {
     "end_time": "2023-10-14T22:55:30.874441300Z",
     "start_time": "2023-10-14T22:55:30.839389400Z"
    }
   },
   "id": "fd4e405e84cb0372"
  },
  {
   "cell_type": "code",
   "execution_count": 6,
   "outputs": [
    {
     "name": "stdout",
     "output_type": "stream",
     "text": [
      "File tmp\\text_generation.json exists\n"
     ]
    }
   ],
   "source": [
    "download_file(\"https://huggingface.co/datasets/sahil2801/CodeAlpaca-20k/raw/main/code_alpaca_20k.json\", dataset_path)"
   ],
   "metadata": {
    "collapsed": false,
    "ExecuteTime": {
     "end_time": "2023-10-14T20:12:53.779772800Z",
     "start_time": "2023-10-14T20:12:53.712224900Z"
    }
   },
   "id": "be02e59361ef6130"
  },
  {
   "cell_type": "code",
   "execution_count": 7,
   "outputs": [],
   "source": [
    "json_dataset = None\n",
    "with open(dataset_path) as f:\n",
    "    # noinspection PyRedeclaration\n",
    "    json_dataset = json.load(f)"
   ],
   "metadata": {
    "collapsed": false,
    "ExecuteTime": {
     "end_time": "2023-10-14T20:12:53.958152400Z",
     "start_time": "2023-10-14T20:12:53.734116500Z"
    }
   },
   "id": "d06e39d1139cde7e"
  },
  {
   "cell_type": "code",
   "execution_count": 8,
   "outputs": [
    {
     "data": {
      "text/plain": "{'instruction': 'Create an array of length 5 which contains all even numbers between 1 and 10.',\n 'input': '',\n 'output': 'arr = [2, 4, 6, 8, 10]'}"
     },
     "execution_count": 8,
     "metadata": {},
     "output_type": "execute_result"
    }
   ],
   "source": [
    "json_dataset[0]"
   ],
   "metadata": {
    "collapsed": false,
    "ExecuteTime": {
     "end_time": "2023-10-14T20:12:53.958152400Z",
     "start_time": "2023-10-14T20:12:53.851458Z"
    }
   },
   "id": "addc8ebb8add6e70"
  },
  {
   "cell_type": "code",
   "execution_count": 9,
   "outputs": [],
   "source": [
    "dataset = [f\"instruction: {item['instruction']}\\ninput: {item['input']}\\noutput: {item['output']}\"\n",
    "           for item in json_dataset]\n",
    "shuffle(dataset)"
   ],
   "metadata": {
    "collapsed": false,
    "ExecuteTime": {
     "end_time": "2023-10-14T20:12:53.958152400Z",
     "start_time": "2023-10-14T20:12:53.864199500Z"
    }
   },
   "id": "261e7726caadcb20"
  },
  {
   "cell_type": "code",
   "execution_count": 10,
   "outputs": [],
   "source": [],
   "metadata": {
    "collapsed": false,
    "ExecuteTime": {
     "end_time": "2023-10-14T20:12:53.958152400Z",
     "start_time": "2023-10-14T20:12:53.926865600Z"
    }
   },
   "id": "4ac9779fd4b1f893"
  },
  {
   "cell_type": "code",
   "execution_count": 53,
   "outputs": [],
   "source": [
    "tokenizer = tiktoken.get_encoding(\"cl100k_base\")"
   ],
   "metadata": {
    "collapsed": false,
    "ExecuteTime": {
     "end_time": "2023-10-14T22:26:42.391318600Z",
     "start_time": "2023-10-14T22:26:39.369982200Z"
    }
   },
   "id": "39ac49969beff60e"
  },
  {
   "cell_type": "code",
   "execution_count": 58,
   "outputs": [],
   "source": [
    "sequences = [tokenizer.encode(s) for s in dataset]"
   ],
   "metadata": {
    "collapsed": false,
    "ExecuteTime": {
     "end_time": "2023-10-14T22:30:16.417509700Z",
     "start_time": "2023-10-14T22:30:14.290069800Z"
    }
   },
   "id": "5c81500eab989302"
  },
  {
   "cell_type": "code",
   "execution_count": 61,
   "outputs": [
    {
     "data": {
      "text/plain": "1145"
     },
     "execution_count": 61,
     "metadata": {},
     "output_type": "execute_result"
    }
   ],
   "source": [
    "max(len(s) for s in sequences)"
   ],
   "metadata": {
    "collapsed": false,
    "ExecuteTime": {
     "end_time": "2023-10-14T22:34:28.974233400Z",
     "start_time": "2023-10-14T22:34:28.933642500Z"
    }
   },
   "id": "95f9439c360ad2a"
  },
  {
   "cell_type": "code",
   "execution_count": 100,
   "outputs": [],
   "source": [
    "def make_samples(lst, max_seq_length):\n",
    "    seq = lst[:max_seq_length + 1]\n",
    "    if len(lst) >= 2:\n",
    "        samples = []\n",
    "        for i in range(len(seq) - 1):\n",
    "            sequence = seq[:i + 2]\n",
    "            prefix = sequence[:-1] + ([0] * (max_seq_length + 1 - len(sequence)))\n",
    "            completion = sequence[-1]\n",
    "            samples.append((prefix, completion))\n",
    "        return samples\n",
    "    else:\n",
    "        return []"
   ],
   "metadata": {
    "collapsed": false,
    "ExecuteTime": {
     "end_time": "2023-10-14T22:48:05.695633700Z",
     "start_time": "2023-10-14T22:48:05.660269500Z"
    }
   },
   "id": "a248bce0bf63d34a"
  },
  {
   "cell_type": "code",
   "execution_count": 101,
   "outputs": [
    {
     "data": {
      "text/plain": "[([1, 0, 0, 0, 0], 2), ([1, 2, 0, 0, 0], 3), ([1, 2, 3, 0, 0], 4)]"
     },
     "execution_count": 101,
     "metadata": {},
     "output_type": "execute_result"
    }
   ],
   "source": [
    "make_samples([1, 2, 3, 4], 5)"
   ],
   "metadata": {
    "collapsed": false,
    "ExecuteTime": {
     "end_time": "2023-10-14T22:48:05.979367Z",
     "start_time": "2023-10-14T22:48:05.958390600Z"
    }
   },
   "id": "d036631380be34fc"
  },
  {
   "cell_type": "code",
   "execution_count": 102,
   "outputs": [
    {
     "data": {
      "text/plain": "[([1, 0, 0, 0, 0], 2),\n ([1, 2, 0, 0, 0], 3),\n ([1, 2, 3, 0, 0], 4),\n ([1, 2, 3, 4, 0], 5)]"
     },
     "execution_count": 102,
     "metadata": {},
     "output_type": "execute_result"
    }
   ],
   "source": [
    "make_samples([1, 2, 3, 4, 5], 5)"
   ],
   "metadata": {
    "collapsed": false,
    "ExecuteTime": {
     "end_time": "2023-10-14T22:48:06.793365400Z",
     "start_time": "2023-10-14T22:48:06.742666400Z"
    }
   },
   "id": "44da85a17edef214"
  },
  {
   "cell_type": "code",
   "execution_count": 103,
   "outputs": [
    {
     "data": {
      "text/plain": "[([1, 0, 0, 0, 0], 2),\n ([1, 2, 0, 0, 0], 3),\n ([1, 2, 3, 0, 0], 4),\n ([1, 2, 3, 4, 0], 5),\n ([1, 2, 3, 4, 5], 6)]"
     },
     "execution_count": 103,
     "metadata": {},
     "output_type": "execute_result"
    }
   ],
   "source": [
    "make_samples([1, 2, 3, 4, 5, 6], 5)"
   ],
   "metadata": {
    "collapsed": false,
    "ExecuteTime": {
     "end_time": "2023-10-14T22:48:06.984019400Z",
     "start_time": "2023-10-14T22:48:06.874539100Z"
    }
   },
   "id": "10cf895b627d76c"
  },
  {
   "cell_type": "code",
   "execution_count": 104,
   "outputs": [
    {
     "data": {
      "text/plain": "[([1, 0, 0, 0, 0], 2),\n ([1, 2, 0, 0, 0], 3),\n ([1, 2, 3, 0, 0], 4),\n ([1, 2, 3, 4, 0], 5),\n ([1, 2, 3, 4, 5], 6)]"
     },
     "execution_count": 104,
     "metadata": {},
     "output_type": "execute_result"
    }
   ],
   "source": [
    "make_samples([1, 2, 3, 4, 5, 6, 7], 5)"
   ],
   "metadata": {
    "collapsed": false,
    "ExecuteTime": {
     "end_time": "2023-10-14T22:48:08.066657400Z",
     "start_time": "2023-10-14T22:48:08.025823200Z"
    }
   },
   "id": "68afbbb18c3ddbcb"
  },
  {
   "cell_type": "code",
   "execution_count": 16,
   "outputs": [],
   "source": [
    "# samples = [make_samples(sequence, max_seq_length) for sequence in sequences]"
   ],
   "metadata": {
    "collapsed": false,
    "ExecuteTime": {
     "end_time": "2023-10-14T20:12:58.433464100Z",
     "start_time": "2023-10-14T20:12:58.377400400Z"
    }
   },
   "id": "ca582a5eb2d7c930"
  },
  {
   "cell_type": "code",
   "execution_count": 105,
   "outputs": [
    {
     "name": "stdout",
     "output_type": "stream",
     "text": [
      "seq 0 out of 20022\n",
      "seq 1000 out of 20022\n",
      "seq 2000 out of 20022\n",
      "seq 3000 out of 20022\n",
      "seq 4000 out of 20022\n",
      "seq 5000 out of 20022\n",
      "seq 6000 out of 20022\n",
      "seq 7000 out of 20022\n",
      "seq 8000 out of 20022\n",
      "seq 9000 out of 20022\n",
      "seq 10000 out of 20022\n",
      "seq 11000 out of 20022\n",
      "seq 12000 out of 20022\n",
      "seq 13000 out of 20022\n",
      "seq 14000 out of 20022\n",
      "seq 15000 out of 20022\n",
      "seq 16000 out of 20022\n",
      "seq 17000 out of 20022\n",
      "seq 18000 out of 20022\n",
      "seq 19000 out of 20022\n",
      "seq 20000 out of 20022\n"
     ]
    }
   ],
   "source": [
    "samples = []\n",
    "for i in range(len(sequences)):\n",
    "    samples.extend(make_samples(sequences[i], max_seq_length))\n",
    "    if i % 1000 == 0:\n",
    "        print(f\"seq {i} out of {len(sequences)}\")"
   ],
   "metadata": {
    "collapsed": false,
    "ExecuteTime": {
     "end_time": "2023-10-14T22:49:01.455061600Z",
     "start_time": "2023-10-14T22:48:24.130394900Z"
    }
   },
   "id": "b5d43423319db06b"
  },
  {
   "cell_type": "code",
   "execution_count": 115,
   "outputs": [],
   "source": [
    "# Plus OOV token and 0 index representing a mask\n",
    "input_dim = tokenizer.n_vocab + 2"
   ],
   "metadata": {
    "collapsed": false,
    "ExecuteTime": {
     "end_time": "2023-10-14T22:58:13.014672900Z",
     "start_time": "2023-10-14T22:58:12.977367600Z"
    }
   },
   "id": "a6c1b9f3450a3773"
  },
  {
   "cell_type": "code",
   "execution_count": 116,
   "outputs": [
    {
     "data": {
      "text/plain": "100277"
     },
     "execution_count": 116,
     "metadata": {},
     "output_type": "execute_result"
    }
   ],
   "source": [
    "tokenizer.n_vocab"
   ],
   "metadata": {
    "collapsed": false,
    "ExecuteTime": {
     "end_time": "2023-10-14T22:58:17.278024600Z",
     "start_time": "2023-10-14T22:58:17.271484200Z"
    }
   },
   "id": "cdb0749aec670ee2"
  },
  {
   "cell_type": "code",
   "execution_count": 123,
   "outputs": [
    {
     "name": "stdout",
     "output_type": "stream",
     "text": [
      "1519645 168850\n"
     ]
    }
   ],
   "source": [
    "split_size = 0.9\n",
    "train_dataset = samples[:int(len(samples) * split_size)]\n",
    "validation_dataset = samples[len(train_dataset):]\n",
    "print(len(train_dataset), len(validation_dataset))"
   ],
   "metadata": {
    "collapsed": false,
    "ExecuteTime": {
     "end_time": "2023-10-14T23:13:10.270462800Z",
     "start_time": "2023-10-14T23:13:10.204531100Z"
    }
   },
   "id": "9cd845ad0a8b2259"
  },
  {
   "cell_type": "code",
   "execution_count": 125,
   "outputs": [],
   "source": [
    "train_prefixes = [prefix for prefix, completion in train_dataset]\n",
    "train_completions = [completion for prefix, completion in train_dataset]\n",
    "validation_prefixes = [prefix for prefix, completion in validation_dataset]\n",
    "validation_completions = [completion for prefix, completion in validation_dataset]"
   ],
   "metadata": {
    "collapsed": false,
    "ExecuteTime": {
     "end_time": "2023-10-14T23:14:18.247581500Z",
     "start_time": "2023-10-14T23:14:17.950474500Z"
    }
   },
   "id": "f7916cb5ef445d3a"
  },
  {
   "cell_type": "code",
   "execution_count": null,
   "outputs": [],
   "source": [
    "train_prefixes = np.array(train_prefixes)\n",
    "train_completions = np.array(train_completions)\n",
    "validation_prefixes = np.array(validation_prefixes)\n",
    "validation_completions = np.array(validation_completions)"
   ],
   "metadata": {
    "collapsed": false
   },
   "id": "981e40790c8c10c5"
  },
  {
   "cell_type": "code",
   "execution_count": 125,
   "outputs": [],
   "source": [],
   "metadata": {
    "collapsed": false,
    "ExecuteTime": {
     "end_time": "2023-10-14T23:14:21.226447200Z",
     "start_time": "2023-10-14T23:14:21.215262700Z"
    }
   },
   "id": "ab77a1191fcd4875"
  },
  {
   "cell_type": "code",
   "execution_count": 126,
   "outputs": [],
   "source": [
    "model = tf.keras.Sequential([\n",
    "    # text_vectorization_layer,\n",
    "\n",
    "    layers.Embedding(input_dim, 64, mask_zero=True, input_length=max_seq_length),\n",
    "    # layers.Bidirectional and extra LSTM+Dense layers don't improve training performance significantly for this dataset configuration\n",
    "    layers.LSTM(256, return_sequences=True),\n",
    "    layers.LSTM(128),\n",
    "    # tf.keras.layers.Flatten(),\n",
    "    layers.Dense(64, activation=\"relu\"),\n",
    "    layers.Dense(tokenizer.n_vocab, activation=\"softmax\", name=f\"output\")\n",
    "])"
   ],
   "metadata": {
    "collapsed": false,
    "ExecuteTime": {
     "end_time": "2023-10-14T23:14:26.656373Z",
     "start_time": "2023-10-14T23:14:21.573740900Z"
    }
   },
   "id": "3ac4820246d8fd77"
  },
  {
   "cell_type": "code",
   "execution_count": 127,
   "outputs": [
    {
     "name": "stdout",
     "output_type": "stream",
     "text": [
      "Model: \"sequential_1\"\n",
      "_________________________________________________________________\n",
      " Layer (type)                Output Shape              Param #   \n",
      "=================================================================\n",
      " embedding_1 (Embedding)     (None, 500, 16)           1604464   \n",
      "                                                                 \n",
      " bidirectional_1 (Bidirecti  (None, 64)                12544     \n",
      " onal)                                                           \n",
      "                                                                 \n",
      " dense_1 (Dense)             (None, 16)                1040      \n",
      "                                                                 \n",
      " output (Dense)              (None, 100277)            1704709   \n",
      "                                                                 \n",
      "=================================================================\n",
      "Total params: 3322757 (12.68 MB)\n",
      "Trainable params: 3322757 (12.68 MB)\n",
      "Non-trainable params: 0 (0.00 Byte)\n",
      "_________________________________________________________________\n"
     ]
    }
   ],
   "source": [
    "model.summary()"
   ],
   "metadata": {
    "collapsed": false,
    "ExecuteTime": {
     "end_time": "2023-10-14T23:14:26.759773700Z",
     "start_time": "2023-10-14T23:14:26.656373Z"
    }
   },
   "id": "4739a0f84893d7c0"
  },
  {
   "cell_type": "code",
   "execution_count": 128,
   "outputs": [],
   "source": [
    "model.compile(\n",
    "    optimizer=tf.keras.optimizers.AdamW(learning_rate=1e-3),\n",
    "    loss=\"sparse_categorical_crossentropy\",\n",
    "    metrics=[\"acc\"]\n",
    ")"
   ],
   "metadata": {
    "collapsed": false,
    "ExecuteTime": {
     "end_time": "2023-10-14T23:14:26.939351300Z",
     "start_time": "2023-10-14T23:14:26.688608900Z"
    }
   },
   "id": "c4bf1c16823677f0"
  },
  {
   "cell_type": "code",
   "execution_count": 129,
   "outputs": [],
   "source": [
    "# checkpoint_callback = tf.keras.callbacks.ModelCheckpoint(\n",
    "#     filepath=f\"tmp/checkpoints\",\n",
    "#     save_weights_only=False,\n",
    "#     monitor=f\"val_acc\",\n",
    "#     mode=\"max\",\n",
    "#     save_best_only=True,\n",
    "# )\n",
    "reduce_lr_callback = tf.keras.callbacks.ReduceLROnPlateau(\n",
    "    monitor=f\"val_acc\",\n",
    "    mode=\"max\",\n",
    ")"
   ],
   "metadata": {
    "collapsed": false,
    "ExecuteTime": {
     "end_time": "2023-10-14T23:14:26.939351300Z",
     "start_time": "2023-10-14T23:14:26.713953600Z"
    }
   },
   "id": "e65d10811702fbf5"
  },
  {
   "cell_type": "code",
   "execution_count": null,
   "outputs": [],
   "source": [
    "epochs = 1\n",
    "history = model.fit(\n",
    "    x=train_prefixes,\n",
    "    y=train_completions,\n",
    "    batch_size=batch_size,\n",
    "    epochs=epochs,\n",
    "    steps_per_epoch=250,\n",
    "    callbacks=[reduce_lr_callback],\n",
    "    validation_data=(validation_prefixes, validation_completions),\n",
    "    validation_steps=20\n",
    ")"
   ],
   "metadata": {
    "collapsed": false,
    "ExecuteTime": {
     "start_time": "2023-10-14T23:14:48.196038100Z"
    }
   },
   "id": "c4b5dfec22fec76e"
  },
  {
   "cell_type": "markdown",
   "source": [
    "```\n",
    "Epoch 1/25\n",
    "250/250 [==============================] - 144s 543ms/step - loss: 7.0927 - acc: 0.0448 - val_loss: 6.5767 - val_acc: 0.0511 - lr: 0.0010\n",
    "Epoch 2/25\n",
    "250/250 [==============================] - 119s 475ms/step - loss: 6.3411 - acc: 0.0697 - val_loss: 6.0421 - val_acc: 0.1019 - lr: 0.0010\n",
    "Epoch 3/25\n",
    "250/250 [==============================] - 111s 445ms/step - loss: 5.8404 - acc: 0.1162 - val_loss: 5.6927 - val_acc: 0.1278 - lr: 0.0010\n",
    "Epoch 4/25\n",
    "250/250 [==============================] - 106s 425ms/step - loss: 5.5067 - acc: 0.1588 - val_loss: 5.3182 - val_acc: 0.1828 - lr: 0.0010\n",
    "Epoch 5/25\n",
    "250/250 [==============================] - 105s 419ms/step - loss: 5.0829 - acc: 0.2078 - val_loss: 4.9205 - val_acc: 0.2251 - lr: 0.0010\n",
    "Epoch 6/25\n",
    "250/250 [==============================] - 100s 400ms/step - loss: 4.7121 - acc: 0.2373 - val_loss: 4.6609 - val_acc: 0.2587 - lr: 0.0010\n",
    "Epoch 7/25\n",
    "250/250 [==============================] - 100s 401ms/step - loss: 4.4836 - acc: 0.2699 - val_loss: 4.4656 - val_acc: 0.2858 - lr: 0.0010\n",
    "Epoch 8/25\n",
    "250/250 [==============================] - 102s 409ms/step - loss: 4.2962 - acc: 0.2919 - val_loss: 4.2927 - val_acc: 0.3018 - lr: 0.0010\n",
    "Epoch 9/25\n",
    "250/250 [==============================] - 100s 402ms/step - loss: 4.1372 - acc: 0.3080 - val_loss: 4.1648 - val_acc: 0.3175 - lr: 0.0010\n",
    "Epoch 10/25\n",
    "250/250 [==============================] - 98s 393ms/step - loss: 3.9871 - acc: 0.3232 - val_loss: 4.0560 - val_acc: 0.3308 - lr: 0.0010\n",
    "Epoch 11/25\n",
    "250/250 [==============================] - 99s 397ms/step - loss: 3.8384 - acc: 0.3375 - val_loss: 3.9696 - val_acc: 0.3410 - lr: 0.0010\n",
    "Epoch 12/25\n",
    "250/250 [==============================] - 99s 397ms/step - loss: 3.7403 - acc: 0.3495 - val_loss: 3.8845 - val_acc: 0.3507 - lr: 0.0010\n",
    "Epoch 13/25\n",
    "250/250 [==============================] - 100s 399ms/step - loss: 3.6602 - acc: 0.3573 - val_loss: 3.8028 - val_acc: 0.3589 - lr: 0.0010\n",
    "Epoch 14/25\n",
    "250/250 [==============================] - 100s 401ms/step - loss: 3.5914 - acc: 0.3673 - val_loss: 3.7353 - val_acc: 0.3678 - lr: 0.0010\n",
    "Epoch 15/25\n",
    "250/250 [==============================] - 100s 400ms/step - loss: 3.4988 - acc: 0.3761 - val_loss: 3.6846 - val_acc: 0.3738 - lr: 0.0010\n",
    "Epoch 16/25\n",
    "250/250 [==============================] - 99s 398ms/step - loss: 3.3790 - acc: 0.3872 - val_loss: 3.6530 - val_acc: 0.3821 - lr: 0.0010\n",
    "Epoch 17/25\n",
    "250/250 [==============================] - 97s 386ms/step - loss: 3.3309 - acc: 0.3938 - val_loss: 3.5855 - val_acc: 0.3889 - lr: 0.0010\n",
    "Epoch 18/25\n",
    "250/250 [==============================] - 98s 394ms/step - loss: 3.3036 - acc: 0.3975 - val_loss: 3.5440 - val_acc: 0.3935 - lr: 0.0010\n",
    "Epoch 19/25\n",
    "250/250 [==============================] - 98s 394ms/step - loss: 3.2649 - acc: 0.4027 - val_loss: 3.5082 - val_acc: 0.3983 - lr: 0.0010\n",
    "Epoch 20/25\n",
    "250/250 [==============================] - 100s 401ms/step - loss: 3.1691 - acc: 0.4116 - val_loss: 3.4811 - val_acc: 0.4043 - lr: 0.0010\n",
    "Epoch 21/25\n",
    "250/250 [==============================] - 99s 397ms/step - loss: 3.1026 - acc: 0.4184 - val_loss: 3.4354 - val_acc: 0.4097 - lr: 0.0010\n",
    "Epoch 22/25\n",
    "250/250 [==============================] - 98s 390ms/step - loss: 3.0756 - acc: 0.4227 - val_loss: 3.4264 - val_acc: 0.4120 - lr: 0.0010\n",
    "Epoch 23/25\n",
    "250/250 [==============================] - 99s 396ms/step - loss: 3.0567 - acc: 0.4250 - val_loss: 3.3940 - val_acc: 0.4168 - lr: 0.0010\n",
    "Epoch 24/25\n",
    "250/250 [==============================] - 97s 389ms/step - loss: 3.0293 - acc: 0.4299 - val_loss: 3.3742 - val_acc: 0.4187 - lr: 0.0010\n",
    "Epoch 25/25\n",
    "250/250 [==============================] - 100s 400ms/step - loss: 2.9531 - acc: 0.4373 - val_loss: 3.3544 - val_acc: 0.4239 - lr: 0.0010\n",
    "```"
   ],
   "metadata": {
    "collapsed": false
   },
   "id": "519065c736ffaf74"
  },
  {
   "cell_type": "code",
   "execution_count": null,
   "outputs": [],
   "source": [
    "acc = history.history[\"acc\"]\n",
    "val_acc = history.history[\"val_acc\"]\n",
    "\n",
    "loss = history.history[\"loss\"]\n",
    "val_loss = history.history[\"val_loss\"]\n",
    "\n",
    "epochs_range = range(epochs)\n",
    "\n",
    "plt.figure(figsize=(8, 8))\n",
    "plt.subplot(2, 1, 1)\n",
    "plt.plot(epochs_range, acc, label=\"Training Accuracy\")\n",
    "plt.plot(epochs_range, val_acc, label=\"Validation Accuracy\")\n",
    "plt.legend(loc=\"lower left\")\n",
    "plt.title(\"Training and Validation Accuracy\")\n",
    "\n",
    "plt.subplot(2, 1, 2)\n",
    "plt.plot(epochs_range, loss, label=\"Training Loss\")\n",
    "plt.plot(epochs_range, val_loss, label=\"Validation Loss\")\n",
    "plt.legend(loc=\"lower left\")\n",
    "plt.title(\"Training and Validation Loss\")\n",
    "plt.show()"
   ],
   "metadata": {
    "collapsed": false
   },
   "id": "a06c310a58e8d87b"
  },
  {
   "cell_type": "code",
   "execution_count": null,
   "outputs": [],
   "source": [],
   "metadata": {
    "collapsed": false
   },
   "id": "4abf2432d35f8e57"
  },
  {
   "cell_type": "code",
   "execution_count": null,
   "outputs": [],
   "source": [
    "def pad(tokens, max_seq_length):\n",
    "    assert len(tokens) <= max_seq_length\n",
    "    return tokens + ([0] * (max_seq_length - len(tokens)))"
   ],
   "metadata": {
    "collapsed": false
   },
   "id": "580b76a84a66f50"
  },
  {
   "cell_type": "code",
   "execution_count": null,
   "outputs": [],
   "source": [
    "tokenizer.decode(train_prefixes[100])"
   ],
   "metadata": {
    "collapsed": false
   },
   "id": "e0b91145581ce42"
  },
  {
   "cell_type": "code",
   "execution_count": 1,
   "outputs": [
    {
     "ename": "NameError",
     "evalue": "name 'tokenizer' is not defined",
     "output_type": "error",
     "traceback": [
      "\u001B[1;31m---------------------------------------------------------------------------\u001B[0m",
      "\u001B[1;31mNameError\u001B[0m                                 Traceback (most recent call last)",
      "Cell \u001B[1;32mIn[1], line 3\u001B[0m\n\u001B[0;32m      1\u001B[0m \u001B[38;5;66;03m# input = \"instruction: Design an algorithm to print out the prime numbers between 1 and 100.\\ninput: \\noutput: \"\u001B[39;00m\n\u001B[0;32m      2\u001B[0m \u001B[38;5;28minput\u001B[39m \u001B[38;5;241m=\u001B[39m \u001B[38;5;124m\"\u001B[39m\u001B[38;5;124minstruction: Create a JavaScript to switch between two div components.\u001B[39m\u001B[38;5;130;01m\\n\u001B[39;00m\u001B[38;5;124minput: \u001B[39m\u001B[38;5;130;01m\\n\u001B[39;00m\u001B[38;5;124moutput: \u001B[39m\u001B[38;5;124m\"\u001B[39m\n\u001B[1;32m----> 3\u001B[0m input_tokens \u001B[38;5;241m=\u001B[39m \u001B[43mtokenizer\u001B[49m\u001B[38;5;241m.\u001B[39mencode(\u001B[38;5;28minput\u001B[39m)\n\u001B[0;32m      4\u001B[0m input_padded \u001B[38;5;241m=\u001B[39m pad(input_tokens, max_seq_length)\n\u001B[0;32m      5\u001B[0m (\u001B[38;5;28mlen\u001B[39m(input_tokens), \u001B[38;5;28mlen\u001B[39m(input_padded))\n",
      "\u001B[1;31mNameError\u001B[0m: name 'tokenizer' is not defined"
     ]
    }
   ],
   "source": [
    "# input = \"instruction: Design an algorithm to print out the prime numbers between 1 and 100.\\ninput: \\noutput: \"\n",
    "input = \"instruction: Create a JavaScript to switch between two div components.\\ninput: \\noutput: \"\n",
    "input_tokens = tokenizer.encode(input)\n",
    "input_padded = pad(input_tokens, max_seq_length)\n",
    "(len(input_tokens), len(input_padded))"
   ],
   "metadata": {
    "collapsed": false,
    "ExecuteTime": {
     "end_time": "2023-10-15T18:38:31.719371400Z",
     "start_time": "2023-10-15T18:38:29.946926400Z"
    }
   },
   "id": "13995105796a0b3c"
  },
  {
   "cell_type": "code",
   "execution_count": null,
   "outputs": [],
   "source": [
    "print(tokenizer.decode(input_padded))\n",
    "completion = input_padded.copy()\n",
    "for i in range(max_seq_length - len(input_tokens)):\n",
    "    # for i in range(100):\n",
    "    output = model(tf.expand_dims(completion, 0))[0]\n",
    "    # token = tf.argmax(output)\n",
    "    top_k = tf.math.top_k(output, k=3)\n",
    "    # print(f\"top_k: {top_k}\")\n",
    "    # print(f\"top_k tokens: {tokenizer.decode(top_k.indices)}\")\n",
    "    # p_sum = sum(top_k.values)\n",
    "    # p = top_k.values.numpy().astype(np.float32) / p_sum\n",
    "    token = np.random.choice(top_k.indices)\n",
    "    # print(f\"token: {token} '{tokenizer.decode([token])}'\")\n",
    "    completion[i + len(input_tokens)] = token\n",
    "print(\"Completion:\")\n",
    "print(tokenizer.decode(completion))"
   ],
   "metadata": {
    "collapsed": false
   },
   "id": "43231469923ee49d"
  },
  {
   "cell_type": "markdown",
   "source": [
    "```\n",
    "instruction: Create a JavaScript to switch between two div components.\n",
    "input: \n",
    "output: !!!!!!!!!!!!!!!!!!!!!!!!!!!!!!!!!!!!!!!!!!!!!!!!!!!!!!!!!!!!!!!!!!!!!!!!!!!!!!!!!!\n",
    "Completion:\n",
    "instruction: Create a JavaScript to switch between two div components.\n",
    "input: \n",
    "output: 3.5 3, y. This function will create an example\n",
    "let a <- int(num) { [1],\n",
    "    [2,2],\n",
    "    print(i) {\n",
    "    if (str % i) {\n",
    "      if (!input            return \" + (a\"2; i < 10.length; i--) { \n",
    "  \n",
    "    for (let i=2;\n",
    "  }\n",
    "} else \n",
    "  }\n",
    "```"
   ],
   "metadata": {
    "collapsed": false
   },
   "id": "362d01e3c9dedca0"
  },
  {
   "cell_type": "code",
   "execution_count": null,
   "outputs": [],
   "source": [
    "model.save(\"tmp/model.h5\", save_format=\"h5\")"
   ],
   "metadata": {
    "collapsed": false
   },
   "id": "34c111a7500f86d1"
  },
  {
   "cell_type": "code",
   "execution_count": null,
   "outputs": [],
   "source": [],
   "metadata": {
    "collapsed": false
   },
   "id": "5553265c5a8988f3"
  }
 ],
 "metadata": {
  "kernelspec": {
   "display_name": "Python 3",
   "language": "python",
   "name": "python3"
  },
  "language_info": {
   "codemirror_mode": {
    "name": "ipython",
    "version": 2
   },
   "file_extension": ".py",
   "mimetype": "text/x-python",
   "name": "python",
   "nbconvert_exporter": "python",
   "pygments_lexer": "ipython2",
   "version": "2.7.6"
  }
 },
 "nbformat": 4,
 "nbformat_minor": 5
}
