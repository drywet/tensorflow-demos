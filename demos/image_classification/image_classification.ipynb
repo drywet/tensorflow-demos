{
 "cells": [
  {
   "cell_type": "code",
   "execution_count": 310,
   "id": "initial_id",
   "metadata": {
    "collapsed": true,
    "ExecuteTime": {
     "end_time": "2023-10-13T13:44:07.672367100Z",
     "start_time": "2023-10-13T13:44:07.578878Z"
    }
   },
   "outputs": [
    {
     "name": "stdout",
     "output_type": "stream",
     "text": [
      "TF version: 2.14.0\n"
     ]
    }
   ],
   "source": [
    "import os\n",
    "import zipfile\n",
    "from pathlib import Path\n",
    "from shutil import copyfileobj\n",
    "from urllib.request import urlopen\n",
    "\n",
    "import matplotlib.pyplot as plt\n",
    "import numpy as np\n",
    "import tensorflow as tf\n",
    "\n",
    "print(f\"TF version: {tf.__version__}\")"
   ]
  },
  {
   "cell_type": "code",
   "execution_count": 311,
   "outputs": [],
   "source": [
    "def archive(dir: Path):\n",
    "    with zipfile.ZipFile(f\"{dir}.zip\", \"w\", zipfile.ZIP_STORED) as zip_file:\n",
    "        for entry in dir.rglob(\"*\"):\n",
    "            zip_file.write(entry, entry.relative_to(dir))\n",
    "\n",
    "\n",
    "def unarchive(file: Path):\n",
    "    with zipfile.ZipFile(file, \"r\") as zip_file:\n",
    "        zip_file.extractall(file.with_suffix(\"\"))"
   ],
   "metadata": {
    "collapsed": false,
    "ExecuteTime": {
     "end_time": "2023-10-13T13:44:07.753940900Z",
     "start_time": "2023-10-13T13:44:07.672367100Z"
    }
   },
   "id": "982e246dd3db12b3"
  },
  {
   "cell_type": "code",
   "execution_count": 312,
   "outputs": [],
   "source": [
    "def download_file(url, dataset_file_path):\n",
    "    path = Path(dataset_file_path)\n",
    "    os.makedirs(path.parent, exist_ok=True)\n",
    "    if not path.exists():\n",
    "        print(f\"Downloading {path}\")\n",
    "        with urlopen(url) as fsrc, open(path, \"wb\") as fdst:\n",
    "            copyfileobj(fsrc, fdst)\n",
    "    else:\n",
    "        print(f\"File {path} exists\")"
   ],
   "metadata": {
    "collapsed": false,
    "ExecuteTime": {
     "end_time": "2023-10-13T13:44:08.038815100Z",
     "start_time": "2023-10-13T13:44:07.976462200Z"
    }
   },
   "id": "8013daed5f896c17"
  },
  {
   "cell_type": "code",
   "execution_count": 312,
   "outputs": [],
   "source": [],
   "metadata": {
    "collapsed": false,
    "ExecuteTime": {
     "end_time": "2023-10-13T13:44:08.235164300Z",
     "start_time": "2023-10-13T13:44:08.203847900Z"
    }
   },
   "id": "1f6dfce42dcc2ae3"
  },
  {
   "cell_type": "code",
   "execution_count": 313,
   "outputs": [],
   "source": [
    "dataset_path = \"tmp/image_classification/dataset\"\n",
    "batch_size = 32\n",
    "image_width = 256\n",
    "image_height = 256\n",
    "image_size = (image_width, image_height)\n",
    "image_size_3 = image_size + (3,)\n",
    "seed = 123\n",
    "class_count = 20"
   ],
   "metadata": {
    "collapsed": false,
    "ExecuteTime": {
     "end_time": "2023-10-13T13:44:08.895681900Z",
     "start_time": "2023-10-13T13:44:08.848090600Z"
    }
   },
   "id": "fd4e405e84cb0372"
  },
  {
   "cell_type": "code",
   "execution_count": 314,
   "outputs": [
    {
     "name": "stdout",
     "output_type": "stream",
     "text": [
      "File tmp\\image_classification\\dataset.zip exists\n"
     ]
    }
   ],
   "source": [
    "download_file(\"https://huggingface.co/datasets/Matthijs/snacks/resolve/main/images.zip\", f\"{dataset_path}.zip\")"
   ],
   "metadata": {
    "collapsed": false,
    "ExecuteTime": {
     "end_time": "2023-10-13T13:44:09.059755500Z",
     "start_time": "2023-10-13T13:44:08.993906500Z"
    }
   },
   "id": "be02e59361ef6130"
  },
  {
   "cell_type": "code",
   "execution_count": 315,
   "outputs": [],
   "source": [
    "unarchive(Path(f\"tmp/image_classification/dataset.zip\"))"
   ],
   "metadata": {
    "collapsed": false,
    "ExecuteTime": {
     "end_time": "2023-10-13T13:44:20.991776700Z",
     "start_time": "2023-10-13T13:44:09.650363300Z"
    }
   },
   "id": "72a8a89b7c61008c"
  },
  {
   "cell_type": "code",
   "execution_count": 316,
   "outputs": [
    {
     "name": "stdout",
     "output_type": "stream",
     "text": [
      "Found 4838 files belonging to 20 classes.\n",
      "Found 955 files belonging to 20 classes.\n"
     ]
    }
   ],
   "source": [
    "train_dataset = tf.keras.utils.image_dataset_from_directory(\n",
    "    directory=f\"{dataset_path}/data/train\",\n",
    "    label_mode=\"categorical\",\n",
    "    batch_size=batch_size,\n",
    "    image_size=image_size,\n",
    "    shuffle=True,\n",
    "    seed=seed,\n",
    "    interpolation=\"bicubic\",\n",
    ")\n",
    "validation_dataset = tf.keras.utils.image_dataset_from_directory(\n",
    "    directory=f\"{dataset_path}/data/val\",\n",
    "    label_mode=\"categorical\",\n",
    "    batch_size=batch_size,\n",
    "    image_size=image_size,\n",
    "    shuffle=False,\n",
    "    seed=seed,\n",
    "    interpolation=\"bicubic\",\n",
    ")\n",
    "assert train_dataset.class_names == validation_dataset.class_names\n",
    "assert len(train_dataset.class_names) == class_count\n",
    "# train_dataset=train_dataset.cache().prefetch(10000).shuffle(10000)\n",
    "# validation_dataset=validation_dataset.cache().prefetch(10000)"
   ],
   "metadata": {
    "collapsed": false,
    "ExecuteTime": {
     "end_time": "2023-10-13T13:44:22.010712100Z",
     "start_time": "2023-10-13T13:44:21.007427700Z"
    }
   },
   "id": "5daba56d2ba4fc9a"
  },
  {
   "cell_type": "code",
   "execution_count": 317,
   "outputs": [],
   "source": [
    "from tensorflow.keras import layers\n",
    "\n",
    "model = tf.keras.Sequential([\n",
    "    tf.keras.layers.Input(image_size_3),\n",
    "\n",
    "    tf.keras.layers.RandomFlip(mode=\"horizontal\"),\n",
    "    tf.keras.layers.RandomRotation(0.05),\n",
    "    tf.keras.layers.RandomZoom(0.15),\n",
    "    tf.keras.layers.RandomTranslation(0.1, 0.1),\n",
    "    tf.keras.layers.RandomContrast(0.15),\n",
    "    tf.keras.layers.RandomBrightness(0.1, value_range=[0.0, 255.0]),\n",
    "    tf.keras.layers.Layer(name=\"augmentation_end\"),\n",
    "\n",
    "    tf.keras.layers.Rescaling(1 / 255.0),\n",
    "\n",
    "    # Pixel noise\n",
    "    # layers.Dropout(0.05, noise_shape=image_size + (1,), name=f\"dropout_xy_1\"),\n",
    "    # # Horizontal line noise\n",
    "    # layers.Dropout(0.1, noise_shape=(image_height, 1, 1), name=f\"dropout_x_1\"),\n",
    "    # # Vertical line noise\n",
    "    # layers.Dropout(0.1, noise_shape=(1, image_width, 1), name=f\"dropout_y_1\"),\n",
    "\n",
    "    layers.Conv2D(16, 3, padding=\"same\", activation=\"relu\"),\n",
    "    layers.MaxPooling2D(),\n",
    "    # layers.Dropout(0.05),\n",
    "    # layers.LayerNormalization(),\n",
    "    # layers.BatchNormalization(),\n",
    "    layers.Conv2D(32, 3, padding=\"same\", activation=\"relu\"),\n",
    "    layers.MaxPooling2D(),\n",
    "    # layers.Dropout(0.05),\n",
    "    # layers.LayerNormalization(),\n",
    "    # layers.BatchNormalization(),\n",
    "    layers.Conv2D(64, 3, padding=\"same\", activation=\"relu\"),\n",
    "    layers.MaxPooling2D(),\n",
    "    # layers.Dropout(0.05),\n",
    "    # layers.LayerNormalization(),\n",
    "    # layers.BatchNormalization(),\n",
    "    layers.Flatten(),\n",
    "    # layers.Dropout(0.2),\n",
    "    layers.Dense(128, activation=\"relu\"),\n",
    "    layers.Dense(class_count, activation=\"softmax\", name=f\"output\")\n",
    "])"
   ],
   "metadata": {
    "collapsed": false,
    "ExecuteTime": {
     "end_time": "2023-10-13T13:44:22.867527200Z",
     "start_time": "2023-10-13T13:44:22.026405700Z"
    }
   },
   "id": "3ac4820246d8fd77"
  },
  {
   "cell_type": "code",
   "execution_count": 318,
   "outputs": [
    {
     "name": "stdout",
     "output_type": "stream",
     "text": [
      "Model: \"sequential_8\"\n",
      "_________________________________________________________________\n",
      " Layer (type)                Output Shape              Param #   \n",
      "=================================================================\n",
      " random_flip_21 (RandomFlip  (None, 256, 256, 3)       0         \n",
      " )                                                               \n",
      "                                                                 \n",
      " random_rotation_21 (Random  (None, 256, 256, 3)       0         \n",
      " Rotation)                                                       \n",
      "                                                                 \n",
      " random_zoom_21 (RandomZoom  (None, 256, 256, 3)       0         \n",
      " )                                                               \n",
      "                                                                 \n",
      " random_translation_21 (Ran  (None, 256, 256, 3)       0         \n",
      " domTranslation)                                                 \n",
      "                                                                 \n",
      " random_contrast_21 (Random  (None, 256, 256, 3)       0         \n",
      " Contrast)                                                       \n",
      "                                                                 \n",
      " random_brightness_21 (Rand  (None, 256, 256, 3)       0         \n",
      " omBrightness)                                                   \n",
      "                                                                 \n",
      " augmentation_end (Layer)    (None, 256, 256, 3)       0         \n",
      "                                                                 \n",
      " rescaling_25 (Rescaling)    (None, 256, 256, 3)       0         \n",
      "                                                                 \n",
      " conv2d_15 (Conv2D)          (None, 256, 256, 16)      448       \n",
      "                                                                 \n",
      " max_pooling2d (MaxPooling2  (None, 128, 128, 16)      0         \n",
      " D)                                                              \n",
      "                                                                 \n",
      " conv2d_16 (Conv2D)          (None, 128, 128, 32)      4640      \n",
      "                                                                 \n",
      " max_pooling2d_1 (MaxPoolin  (None, 64, 64, 32)        0         \n",
      " g2D)                                                            \n",
      "                                                                 \n",
      " conv2d_17 (Conv2D)          (None, 64, 64, 64)        18496     \n",
      "                                                                 \n",
      " max_pooling2d_2 (MaxPoolin  (None, 32, 32, 64)        0         \n",
      " g2D)                                                            \n",
      "                                                                 \n",
      " flatten (Flatten)           (None, 65536)             0         \n",
      "                                                                 \n",
      " dense (Dense)               (None, 128)               8388736   \n",
      "                                                                 \n",
      " output (Dense)              (None, 20)                2580      \n",
      "                                                                 \n",
      "=================================================================\n",
      "Total params: 8414900 (32.10 MB)\n",
      "Trainable params: 8414900 (32.10 MB)\n",
      "Non-trainable params: 0 (0.00 Byte)\n",
      "_________________________________________________________________\n"
     ]
    }
   ],
   "source": [
    "model.summary()"
   ],
   "metadata": {
    "collapsed": false,
    "ExecuteTime": {
     "end_time": "2023-10-13T13:44:22.977441900Z",
     "start_time": "2023-10-13T13:44:22.867527200Z"
    }
   },
   "id": "4739a0f84893d7c0"
  },
  {
   "cell_type": "code",
   "execution_count": 319,
   "outputs": [],
   "source": [
    "model.compile(\n",
    "    optimizer=tf.keras.optimizers.AdamW(learning_rate=1e-3),\n",
    "    loss=\"categorical_crossentropy\",\n",
    "    metrics=[\"acc\"]\n",
    ")"
   ],
   "metadata": {
    "collapsed": false,
    "ExecuteTime": {
     "end_time": "2023-10-13T13:44:23.115869800Z",
     "start_time": "2023-10-13T13:44:22.946177Z"
    }
   },
   "id": "c4bf1c16823677f0"
  },
  {
   "cell_type": "code",
   "execution_count": 320,
   "outputs": [],
   "source": [
    "# checkpoint_callback = tf.keras.callbacks.ModelCheckpoint(\n",
    "#     filepath=f\"tmp/checkpoints\",\n",
    "#     save_weights_only=False,\n",
    "#     monitor=f\"val_acc\",\n",
    "#     mode=\"max\",\n",
    "#     save_best_only=True,\n",
    "# )\n",
    "reduce_lr_callback = tf.keras.callbacks.ReduceLROnPlateau(\n",
    "    monitor=f\"val_acc\",\n",
    "    mode=\"max\",\n",
    ")"
   ],
   "metadata": {
    "collapsed": false,
    "ExecuteTime": {
     "end_time": "2023-10-13T13:44:23.115869800Z",
     "start_time": "2023-10-13T13:44:22.994996500Z"
    }
   },
   "id": "e65d10811702fbf5"
  },
  {
   "cell_type": "code",
   "execution_count": 322,
   "outputs": [
    {
     "name": "stdout",
     "output_type": "stream",
     "text": [
      "152/152 [==============================] - 204s 1s/step - loss: 2.4443 - acc: 0.2470 - val_loss: 2.5831 - val_acc: 0.2366 - lr: 0.0010\n"
     ]
    }
   ],
   "source": [
    "epochs = 1\n",
    "history = model.fit(\n",
    "    train_dataset,\n",
    "    validation_data=validation_dataset,\n",
    "    epochs=epochs,\n",
    "    callbacks=[reduce_lr_callback],\n",
    ")"
   ],
   "metadata": {
    "collapsed": false,
    "ExecuteTime": {
     "end_time": "2023-10-13T14:25:24.513689300Z",
     "start_time": "2023-10-13T14:22:00.094780200Z"
    }
   },
   "id": "d89797200dc65529"
  },
  {
   "cell_type": "code",
   "execution_count": 324,
   "outputs": [],
   "source": [],
   "metadata": {
    "collapsed": false,
    "ExecuteTime": {
     "end_time": "2023-10-13T14:26:19.655162100Z",
     "start_time": "2023-10-13T14:26:19.606905900Z"
    }
   },
   "id": "d9a192b08299a735"
  },
  {
   "cell_type": "code",
   "execution_count": 327,
   "outputs": [
    {
     "data": {
      "text/plain": "<Figure size 800x800 with 2 Axes>",
      "image/png": "[encoded data removed]"
     },
     "metadata": {},
     "output_type": "display_data"
    }
   ],
   "source": [
    "acc = history.history[\"acc\"]\n",
    "val_acc = history.history[\"val_acc\"]\n",
    "\n",
    "loss = history.history[\"loss\"]\n",
    "val_loss = history.history[\"val_loss\"]\n",
    "\n",
    "epochs_range = range(epochs)\n",
    "\n",
    "plt.figure(figsize=(8, 8))\n",
    "plt.subplot(1, 2, 1)\n",
    "plt.plot(epochs_range, acc, label=\"Training Accuracy\")\n",
    "plt.plot(epochs_range, val_acc, label=\"Validation Accuracy\")\n",
    "plt.legend(loc=\"lower right\")\n",
    "plt.title(\"Training and Validation Accuracy\")\n",
    "\n",
    "plt.subplot(1, 2, 2)\n",
    "plt.plot(epochs_range, loss, label=\"Training Loss\")\n",
    "plt.plot(epochs_range, val_loss, label=\"Validation Loss\")\n",
    "plt.legend(loc=\"upper right\")\n",
    "plt.title(\"Training and Validation Loss\")\n",
    "plt.show()"
   ],
   "metadata": {
    "collapsed": false,
    "ExecuteTime": {
     "end_time": "2023-10-13T14:26:52.643655400Z",
     "start_time": "2023-10-13T14:26:51.909721300Z"
    }
   },
   "id": "f7fdbbaa96d80c35"
  },
  {
   "cell_type": "code",
   "execution_count": null,
   "outputs": [],
   "source": [],
   "metadata": {
    "collapsed": false
   },
   "id": "768a02f346d3a72e"
  },
  {
   "cell_type": "code",
   "execution_count": 309,
   "outputs": [],
   "source": [
    "model.save(\"tmp/model.h5\", save_format=\"h5\")"
   ],
   "metadata": {
    "collapsed": false,
    "ExecuteTime": {
     "end_time": "2023-10-12T12:33:53.842028500Z",
     "start_time": "2023-10-12T12:33:53.689253800Z"
    }
   },
   "id": "34c111a7500f86d1"
  },
  {
   "cell_type": "code",
   "execution_count": null,
   "outputs": [],
   "source": [],
   "metadata": {
    "collapsed": false
   },
   "id": "696fdc25562642"
  }
 ],
 "metadata": {
  "kernelspec": {
   "display_name": "Python 3",
   "language": "python",
   "name": "python3"
  },
  "language_info": {
   "codemirror_mode": {
    "name": "ipython",
    "version": 2
   },
   "file_extension": ".py",
   "mimetype": "text/x-python",
   "name": "python",
   "nbconvert_exporter": "python",
   "pygments_lexer": "ipython2",
   "version": "2.7.6"
  }
 },
 "nbformat": 4,
 "nbformat_minor": 5
}
