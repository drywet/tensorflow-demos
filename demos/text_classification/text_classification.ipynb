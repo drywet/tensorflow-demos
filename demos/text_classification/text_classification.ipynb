{
 "cells": [
  {
   "cell_type": "code",
   "execution_count": 1,
   "id": "initial_id",
   "metadata": {
    "collapsed": true,
    "ExecuteTime": {
     "end_time": "2023-10-14T15:10:25.782131400Z",
     "start_time": "2023-10-14T15:10:20.258722700Z"
    }
   },
   "outputs": [
    {
     "name": "stdout",
     "output_type": "stream",
     "text": [
      "TF version: 2.14.0\n"
     ]
    }
   ],
   "source": [
    "import os\n",
    "import re\n",
    "import string\n",
    "from pathlib import Path\n",
    "from shutil import copyfileobj\n",
    "from urllib.request import urlopen\n",
    "\n",
    "import matplotlib.pyplot as plt\n",
    "import numpy as np\n",
    "import tensorflow as tf\n",
    "from tensorflow.keras import layers\n",
    "\n",
    "import zipfile\n",
    "\n",
    "print(f\"TF version: {tf.__version__}\")"
   ]
  },
  {
   "cell_type": "code",
   "execution_count": 2,
   "outputs": [],
   "source": [
    "# def archive(dir: Path):\n",
    "#     with zipfile.ZipFile(f\"{dir}.zip\", \"w\", zipfile.ZIP_STORED) as zip_file:\n",
    "#         for entry in dir.rglob(\"*\"):\n",
    "#             zip_file.write(entry, entry.relative_to(dir))\n",
    "# \n",
    "# \n",
    "# def unarchive(file: Path):\n",
    "#     with zipfile.ZipFile(file, \"r\") as zip_file:\n",
    "#         zip_file.extractall(file.with_suffix(\"\"))"
   ],
   "metadata": {
    "collapsed": false,
    "ExecuteTime": {
     "end_time": "2023-10-14T15:10:25.815602500Z",
     "start_time": "2023-10-14T15:10:25.790099900Z"
    }
   },
   "id": "982e246dd3db12b3"
  },
  {
   "cell_type": "code",
   "execution_count": 3,
   "outputs": [],
   "source": [
    "def download_file(url, dataset_file_path):\n",
    "    path = Path(dataset_file_path)\n",
    "    os.makedirs(path.parent, exist_ok=True)\n",
    "    if not path.exists():\n",
    "        print(f\"Downloading {path}\")\n",
    "        with urlopen(url) as fsrc, open(path, \"wb\") as fdst:\n",
    "            copyfileobj(fsrc, fdst)\n",
    "    else:\n",
    "        print(f\"File {path} exists\")"
   ],
   "metadata": {
    "collapsed": false,
    "ExecuteTime": {
     "end_time": "2023-10-14T15:10:25.846874800Z",
     "start_time": "2023-10-14T15:10:25.791751300Z"
    }
   },
   "id": "8013daed5f896c17"
  },
  {
   "cell_type": "code",
   "execution_count": 3,
   "outputs": [],
   "source": [],
   "metadata": {
    "collapsed": false,
    "ExecuteTime": {
     "end_time": "2023-10-14T15:10:25.862489100Z",
     "start_time": "2023-10-14T15:10:25.815602500Z"
    }
   },
   "id": "1f6dfce42dcc2ae3"
  },
  {
   "cell_type": "code",
   "execution_count": 33,
   "outputs": [],
   "source": [
    "dataset_path = \"tmp/text_classification.csv\"\n",
    "batch_size = 32\n",
    "seed = 123\n",
    "max_seq_length = 100\n",
    "vocab_size = 20000"
   ],
   "metadata": {
    "collapsed": false,
    "ExecuteTime": {
     "end_time": "2023-10-14T17:36:38.729616400Z",
     "start_time": "2023-10-14T17:36:38.718187500Z"
    }
   },
   "id": "fd4e405e84cb0372"
  },
  {
   "cell_type": "code",
   "execution_count": 5,
   "outputs": [
    {
     "name": "stdout",
     "output_type": "stream",
     "text": [
      "Downloading tmp\\text_classification.csv\n"
     ]
    }
   ],
   "source": [
    "download_file(\"https://raw.githubusercontent.com/sealuzh/user_quality/master/csv_files/reviews.csv\", dataset_path)"
   ],
   "metadata": {
    "collapsed": false,
    "ExecuteTime": {
     "end_time": "2023-10-14T15:10:30.529899600Z",
     "start_time": "2023-10-14T15:10:27.021908300Z"
    }
   },
   "id": "be02e59361ef6130"
  },
  {
   "cell_type": "code",
   "execution_count": 6,
   "outputs": [],
   "source": [
    "dataset = tf.data.experimental.make_csv_dataset(\n",
    "    dataset_path,\n",
    "    batch_size=batch_size,\n",
    "    # column_names=None,\n",
    "    # column_defaults=None,\n",
    "    label_name=None,\n",
    "    select_columns=[\"review\", \"star\"],\n",
    "    # field_delim=\",\",\n",
    "    # use_quote_delim=True,\n",
    "    # na_value=\"\",\n",
    "    # header=True,\n",
    "    num_epochs=1,\n",
    "    shuffle=True,\n",
    "    shuffle_buffer_size=10000,\n",
    "    shuffle_seed=seed,\n",
    "    # prefetch_buffer_size=None,\n",
    "    # num_parallel_reads=None,\n",
    "    # sloppy=False,\n",
    "    # num_rows_for_inference=100,\n",
    "    # compression_type=None,\n",
    "    # ignore_errors=False,\n",
    "    # encoding=\"utf-8\"\n",
    ").map(lambda x: (x[\"review\"], float(x[\"star\"])))"
   ],
   "metadata": {
    "collapsed": false,
    "ExecuteTime": {
     "end_time": "2023-10-14T15:10:30.696580800Z",
     "start_time": "2023-10-14T15:10:30.514251400Z"
    }
   },
   "id": "87259e2a268adb02"
  },
  {
   "cell_type": "code",
   "execution_count": 7,
   "outputs": [
    {
     "data": {
      "text/plain": "(array([b'fine', b'good',\n        b'keeps crashing i have the bios flash and startup and game keeps crashing',\n        b'cake calling it a roguelike is a bit of exaggeration  altough its definitely the best rpg on droid  too bad its so short',\n        b'file manager very very very good',\n        b'fairly well optimized im either underestimating hardware advancements or simply pleased with the optimization of this emulator running sonic adventure 2 on a cheap 30 amazon fire a little bit of frame rate and audio issues but still great',\n        b'hate it', b'solved my issue nicely done good job guys',\n        b'heavy ram usage and battery drain this is a great extention for dashclock thanks for your effort really appreciate if you could kindly tweak the heavy battery drain and ram usage',\n        b'kind of good in sonic adventure 1 is all great and good but for sonic adventure 2  with knuckles i cant defeat king boom boo because the emulator doesnt show the shadow when he hides from the light  you need to fix that bug',\n        b'earth wallpaper',\n        b'loved it on my galaxy  but not so much on pixel since i installed this on pixel  im unable to have it read notifications onlyit works  but reads both notifications and msg contentif i can get it to just do notifications only i will give it a higher rating',\n        b'add more colours please i have white phone',\n        b'amazing but well this emulator is amazing on games like sonic adventure 12 dino crisis and marvel vs capcom 2 but one of my favorites is not playable i have to usecdi files but tomb raider the last revelation is not playable so is rayman 2 unreal tournament is ok just when i run around sprites and some splotches of terrain just turn black or plain invisible on rayman 2 and tomb raider last revelation it says insert a game disk same thing with a ton of games like prince of persia and spawn and phantasy star please fix',\n        b'form and function only vehicle for mobile consumption of xkcd that doesnt compromise functionality of desktop access',\n        b'i like it very much',\n        b'great its great to have a fully opensource alternative for notetaking apps like evernote  with syncing capability it could use a few additions such as support for notebooks like on the desktop client but its great to have this much already',\n        b'cool', b'very good',\n        b'lg g3 worked great with kit kat  crashes while loading with lollipop was a great app when it ran great  useful app when it ran under kit kat unusable under lollipop frustrating',\n        b'very realistic i like it  it makes you feel like you are really in space',\n        b'olo',\n        b'most trusted file manager best file manager ive used that requests only the basic permissions required for a file manager the applications entire code is available to the public if you still question whether or not your personal documents and information can be trusted with this app thank you openintents for all your great contributions to the android app store',\n        b'rotating star wars death star excellent running good on the samsung note2',\n        b'awesome really great emulator works fine on my note 3',\n        b'constantly crashes on initial backlog fetching app constantly crashesand says reporting crashes constantly on start up whenever i do manage to get through it works perfectly',\n        b'perfect',\n        b'massively immersive ive lost track of how many days ive spent in this game',\n        b'please fix nvidia shield portable has got widescreen issues',\n        b'perfect just download if you use dashclock everyone needs this',\n        b'wont work anymore worked fine before i updated to 50 pretty sure its not where i have the files i tried everything',\n        b'crashes and then resets score if the sole purpose of the app is to keep the score  there is no point to it when it crashes and then resets the scores you have shame because its simple to use with a good layout'],\n       dtype=object),\n array([5., 5., 1., 5., 5., 5., 1., 5., 4., 3., 3., 3., 5., 4., 5., 5., 4.,\n        5., 5., 3., 5., 1., 5., 5., 5., 3., 5., 5., 3., 5., 1., 2.],\n       dtype=float32))"
     },
     "execution_count": 7,
     "metadata": {},
     "output_type": "execute_result"
    }
   ],
   "source": [
    "next(dataset.as_numpy_iterator())"
   ],
   "metadata": {
    "collapsed": false,
    "ExecuteTime": {
     "end_time": "2023-10-14T15:10:30.813314500Z",
     "start_time": "2023-10-14T15:10:30.680937200Z"
    }
   },
   "id": "9209bea764990498"
  },
  {
   "cell_type": "code",
   "execution_count": 8,
   "outputs": [],
   "source": [
    "dataset = list(dataset.unbatch())"
   ],
   "metadata": {
    "collapsed": false,
    "ExecuteTime": {
     "end_time": "2023-10-14T15:11:52.780221300Z",
     "start_time": "2023-10-14T15:10:30.813314500Z"
    }
   },
   "id": "5ef0244a397e5f39"
  },
  {
   "cell_type": "code",
   "execution_count": 9,
   "outputs": [
    {
     "name": "stdout",
     "output_type": "stream",
     "text": [
      "259258 28807\n"
     ]
    }
   ],
   "source": [
    "split_size = 0.9\n",
    "train_dataset = dataset[:int(len(dataset) * split_size)]\n",
    "validation_dataset = dataset[len(train_dataset):]\n",
    "print(len(train_dataset), len(validation_dataset))"
   ],
   "metadata": {
    "collapsed": false,
    "ExecuteTime": {
     "end_time": "2023-10-14T15:11:52.821554500Z",
     "start_time": "2023-10-14T15:11:52.787885800Z"
    }
   },
   "id": "79ff6078511a2969"
  },
  {
   "cell_type": "code",
   "execution_count": 9,
   "outputs": [],
   "source": [],
   "metadata": {
    "collapsed": false,
    "ExecuteTime": {
     "end_time": "2023-10-14T15:11:52.821554500Z",
     "start_time": "2023-10-14T15:11:52.801642800Z"
    }
   },
   "id": "4ac9779fd4b1f893"
  },
  {
   "cell_type": "code",
   "execution_count": 10,
   "outputs": [],
   "source": [
    "# TextVectorization layer is not supported by h5 model format"
   ],
   "metadata": {
    "collapsed": false,
    "ExecuteTime": {
     "end_time": "2023-10-14T15:11:52.821554500Z",
     "start_time": "2023-10-14T15:11:52.810745200Z"
    }
   },
   "id": "e27156afac4df2dc"
  },
  {
   "cell_type": "code",
   "execution_count": 11,
   "outputs": [],
   "source": [
    "reviews = [review.numpy().decode(\"utf-8\") for review, rating in dataset]"
   ],
   "metadata": {
    "collapsed": false,
    "ExecuteTime": {
     "end_time": "2023-10-14T15:11:53.674489300Z",
     "start_time": "2023-10-14T15:11:52.817395900Z"
    }
   },
   "id": "d4d13fad237962b6"
  },
  {
   "cell_type": "code",
   "execution_count": 12,
   "outputs": [],
   "source": [
    "tokenizer = tf.keras.preprocessing.text.Tokenizer(num_words=vocab_size, oov_token=\"<OOV>\")\n",
    "tokenizer.fit_on_texts(reviews)"
   ],
   "metadata": {
    "collapsed": false,
    "ExecuteTime": {
     "end_time": "2023-10-14T15:11:58.199776600Z",
     "start_time": "2023-10-14T15:11:53.686401400Z"
    }
   },
   "id": "932e62f25916efe5"
  },
  {
   "cell_type": "code",
   "execution_count": 31,
   "outputs": [],
   "source": [
    "def sliding_window(lst, width, step):\n",
    "    assert width > 0\n",
    "    assert step > 0\n",
    "    windows = []\n",
    "    i = 0\n",
    "    windows.append(lst[:width])\n",
    "    i += step\n",
    "    while i + width <= len(lst):\n",
    "        windows.append(lst[i:i + width])\n",
    "        i += step\n",
    "    return windows\n",
    "sliding_window([1, 2, 3, 4, 5, 6, 7], 3, 4)"
   ],
   "metadata": {
    "collapsed": false,
    "ExecuteTime": {
     "end_time": "2023-10-14T17:35:13.979716Z",
     "start_time": "2023-10-14T17:35:13.965258800Z"
    }
   },
   "id": "a248bce0bf63d34a"
  },
  {
   "cell_type": "code",
   "execution_count": 14,
   "outputs": [],
   "source": [
    "def texts_to_sequences_with_ratings(dataset):\n",
    "    reviews = [review.numpy().decode(\"utf-8\") for review, rating in dataset]\n",
    "    ratings = [rating for review, rating in dataset]\n",
    "    sequences = tokenizer.texts_to_sequences(reviews)\n",
    "    sequences2 = [(window, rating) for sequence, rating in zip(sequences, ratings)\n",
    "                  for window in sliding_window(sequence, max_seq_length, 10)]\n",
    "    # padding=post is required for cuDNN LSTM implementation\n",
    "    padded = tf.keras.utils.pad_sequences(\n",
    "        [x[0] for x in sequences2],\n",
    "        maxlen=max_seq_length,\n",
    "        padding=\"post\",\n",
    "        truncating=\"post\",\n",
    "    )\n",
    "    return reviews, padded, [x[1] for x in sequences2]\n",
    "\n",
    "\n",
    "train_reviews, train_reviews_padded, train_ratings = texts_to_sequences_with_ratings(train_dataset)\n",
    "validation_reviews, validation_reviews_padded, validation_ratings = texts_to_sequences_with_ratings(validation_dataset)"
   ],
   "metadata": {
    "collapsed": false,
    "ExecuteTime": {
     "end_time": "2023-10-14T15:12:05.142128300Z",
     "start_time": "2023-10-14T15:11:58.208346500Z"
    }
   },
   "id": "e9c5fdc909ec500"
  },
  {
   "cell_type": "code",
   "execution_count": 14,
   "outputs": [
    {
     "data": {
      "text/plain": "10000"
     },
     "execution_count": 14,
     "metadata": {},
     "output_type": "execute_result"
    }
   ],
   "source": [
    "vocab_size = tokenizer.num_words\n",
    "vocab_size"
   ],
   "metadata": {
    "collapsed": false,
    "ExecuteTime": {
     "end_time": "2023-10-14T08:45:17.774370300Z",
     "start_time": "2023-10-14T08:45:17.748672900Z"
    }
   },
   "id": "342716e35e2e0468"
  },
  {
   "cell_type": "code",
   "execution_count": 15,
   "outputs": [],
   "source": [
    "# Plus OOV token and 0 index representing a mask\n",
    "input_dim = vocab_size + 2"
   ],
   "metadata": {
    "collapsed": false,
    "ExecuteTime": {
     "end_time": "2023-10-14T08:45:17.823826600Z",
     "start_time": "2023-10-14T08:45:17.757398700Z"
    }
   },
   "id": "a6c1b9f3450a3773"
  },
  {
   "cell_type": "code",
   "execution_count": 16,
   "outputs": [],
   "source": [
    "# TextVectorization layer is not supported by h5 model format needed for the exam\n",
    "# text_vectorization_layer = tf.keras.layers.TextVectorization(\n",
    "#     # ngrams=3,\n",
    "#     # output_sequence_length=5,\n",
    "# )"
   ],
   "metadata": {
    "collapsed": false,
    "ExecuteTime": {
     "end_time": "2023-10-14T08:45:17.859719300Z",
     "start_time": "2023-10-14T08:45:17.774370300Z"
    }
   },
   "id": "4553a99e6837e9d3"
  },
  {
   "cell_type": "code",
   "execution_count": 17,
   "outputs": [],
   "source": [
    "# text_vectorization_layer.adapt(\n",
    "#     train_dataset.concatenate(validation_dataset).map(lambda review, label: review)\n",
    "# )"
   ],
   "metadata": {
    "collapsed": false,
    "ExecuteTime": {
     "end_time": "2023-10-14T08:45:17.859719300Z",
     "start_time": "2023-10-14T08:45:17.791828300Z"
    }
   },
   "id": "71bdaa6e18d921a0"
  },
  {
   "cell_type": "code",
   "execution_count": 18,
   "outputs": [],
   "source": [
    "# text_vectorization_layer.get_vocabulary()"
   ],
   "metadata": {
    "collapsed": false,
    "ExecuteTime": {
     "end_time": "2023-10-14T08:45:17.859719300Z",
     "start_time": "2023-10-14T08:45:17.807978500Z"
    }
   },
   "id": "334b29c6e7d3576f"
  },
  {
   "cell_type": "code",
   "execution_count": 19,
   "outputs": [],
   "source": [
    "# text_vectorization_layer(\n",
    "#     np.array([\"one two three four five six seven\", \"two\", \"three\"])\n",
    "# )"
   ],
   "metadata": {
    "collapsed": false,
    "ExecuteTime": {
     "end_time": "2023-10-14T08:45:17.859719300Z",
     "start_time": "2023-10-14T08:45:17.824335600Z"
    }
   },
   "id": "ef8c42e3d4d130d1"
  },
  {
   "cell_type": "code",
   "execution_count": 20,
   "outputs": [],
   "source": [
    "# vocab_size = len(text_vectorization_layer.get_vocabulary())\n",
    "# vocab_size"
   ],
   "metadata": {
    "collapsed": false,
    "ExecuteTime": {
     "end_time": "2023-10-14T08:45:17.916404800Z",
     "start_time": "2023-10-14T08:45:17.841607400Z"
    }
   },
   "id": "8ab29488aa38aac7"
  },
  {
   "cell_type": "code",
   "execution_count": 21,
   "outputs": [],
   "source": [
    "# input_dim = vocab_size"
   ],
   "metadata": {
    "collapsed": false,
    "ExecuteTime": {
     "end_time": "2023-10-14T08:45:17.916404800Z",
     "start_time": "2023-10-14T08:45:17.859719300Z"
    }
   },
   "id": "62829e5d788989e3"
  },
  {
   "cell_type": "code",
   "execution_count": 21,
   "outputs": [],
   "source": [],
   "metadata": {
    "collapsed": false,
    "ExecuteTime": {
     "end_time": "2023-10-14T08:45:17.916404800Z",
     "start_time": "2023-10-14T08:45:17.878808900Z"
    }
   },
   "id": "c75de71756b1f09"
  },
  {
   "cell_type": "code",
   "execution_count": 22,
   "outputs": [],
   "source": [
    "model = tf.keras.Sequential([\n",
    "    # text_vectorization_layer,\n",
    "\n",
    "    layers.Embedding(input_dim, 16, mask_zero=True, input_length=max_seq_length),\n",
    "    layers.Bidirectional(layers.LSTM(32)),\n",
    "    # tf.keras.layers.Flatten(),\n",
    "    layers.Dense(16, activation=\"relu\"),\n",
    "    layers.Dense(1),\n",
    "    # layers.Dense(class_count, activation=\"softmax\", name=f\"output\")\n",
    "])"
   ],
   "metadata": {
    "collapsed": false,
    "ExecuteTime": {
     "end_time": "2023-10-14T08:45:20.724250400Z",
     "start_time": "2023-10-14T08:45:17.885137300Z"
    }
   },
   "id": "3ac4820246d8fd77"
  },
  {
   "cell_type": "code",
   "execution_count": 23,
   "outputs": [
    {
     "name": "stdout",
     "output_type": "stream",
     "text": [
      "Model: \"sequential\"\n",
      "_________________________________________________________________\n",
      " Layer (type)                Output Shape              Param #   \n",
      "=================================================================\n",
      " embedding (Embedding)       (None, 120, 16)           160032    \n",
      "                                                                 \n",
      " bidirectional (Bidirection  (None, 64)                12544     \n",
      " al)                                                             \n",
      "                                                                 \n",
      " dense (Dense)               (None, 16)                1040      \n",
      "                                                                 \n",
      " dense_1 (Dense)             (None, 1)                 17        \n",
      "                                                                 \n",
      "=================================================================\n",
      "Total params: 173633 (678.25 KB)\n",
      "Trainable params: 173633 (678.25 KB)\n",
      "Non-trainable params: 0 (0.00 Byte)\n",
      "_________________________________________________________________\n"
     ]
    }
   ],
   "source": [
    "model.summary()"
   ],
   "metadata": {
    "collapsed": false,
    "ExecuteTime": {
     "end_time": "2023-10-14T08:45:20.770682600Z",
     "start_time": "2023-10-14T08:45:20.724250400Z"
    }
   },
   "id": "4739a0f84893d7c0"
  },
  {
   "cell_type": "code",
   "execution_count": 24,
   "outputs": [],
   "source": [
    "model.compile(\n",
    "    optimizer=tf.keras.optimizers.AdamW(learning_rate=1e-3),\n",
    "    loss=\"mse\",\n",
    "    metrics=[\"mae\"]\n",
    ")"
   ],
   "metadata": {
    "collapsed": false,
    "ExecuteTime": {
     "end_time": "2023-10-14T08:45:21.026548Z",
     "start_time": "2023-10-14T08:45:20.755039500Z"
    }
   },
   "id": "c4bf1c16823677f0"
  },
  {
   "cell_type": "code",
   "execution_count": 25,
   "outputs": [],
   "source": [
    "# checkpoint_callback = tf.keras.callbacks.ModelCheckpoint(\n",
    "#     filepath=f\"tmp/checkpoints\",\n",
    "#     save_weights_only=False,\n",
    "#     monitor=f\"val_acc\",\n",
    "#     mode=\"max\",\n",
    "#     save_best_only=True,\n",
    "# )\n",
    "reduce_lr_callback = tf.keras.callbacks.ReduceLROnPlateau(\n",
    "    monitor=f\"val_loss\",\n",
    "    mode=\"max\",\n",
    ")"
   ],
   "metadata": {
    "collapsed": false,
    "ExecuteTime": {
     "end_time": "2023-10-14T08:45:21.060656400Z",
     "start_time": "2023-10-14T08:45:20.788258300Z"
    }
   },
   "id": "e65d10811702fbf5"
  },
  {
   "cell_type": "code",
   "execution_count": null,
   "outputs": [
    {
     "name": "stdout",
     "output_type": "stream",
     "text": [
      "Epoch 1/3\n",
      "2184/8102 [=======>......................] - ETA: 5:54 - loss: 1.8011 - mae: 0.9646"
     ]
    }
   ],
   "source": [
    "epochs = 3\n",
    "history = model.fit(\n",
    "    x=np.array(train_reviews_padded),\n",
    "    y=np.array(train_ratings),\n",
    "    batch_size=batch_size,\n",
    "    epochs=epochs,\n",
    "    callbacks=[reduce_lr_callback],\n",
    "    validation_data=(np.array(validation_reviews_padded), np.array(validation_ratings)),\n",
    ")"
   ],
   "metadata": {
    "collapsed": false,
    "is_executing": true,
    "ExecuteTime": {
     "start_time": "2023-10-14T08:45:20.788258300Z"
    }
   },
   "id": "c4b5dfec22fec76e"
  },
  {
   "cell_type": "markdown",
   "source": [
    "```\n",
    "Original\n",
    "\n",
    "Epoch 1/3\n",
    "8102/8102 [==============================] - 148s 17ms/step - loss: 1.2404 - mae: 0.7918 - val_loss: 1.0588 - val_mae: 0.7061 - lr: 0.0010\n",
    "Epoch 2/3\n",
    "8102/8102 [==============================] - 97s 12ms/step - loss: 0.9636 - mae: 0.6815 - val_loss: 1.0458 - val_mae: 0.7251 - lr: 0.0010\n",
    "Epoch 3/3\n",
    "8102/8102 [==============================] - 93s 11ms/step - loss: 0.9083 - mae: 0.6534 - val_loss: 1.0417 - val_mae: 0.7045 - lr: 0.0010\n",
    "\n",
    "\n",
    "\n",
    "With sliding_window of width=30\n",
    "\n",
    "Epoch 1/3\n",
    "26639/26639 [==============================] - 284s 10ms/step - loss: 1.0025 - mae: 0.7239 - val_loss: 1.7576 - val_mae: 0.9909 - lr: 0.0010\n",
    "Epoch 2/3\n",
    "26639/26639 [==============================] - 242s 9ms/step - loss: 0.5891 - mae: 0.5121 - val_loss: 1.9097 - val_mae: 1.0091 - lr: 0.0010\n",
    "Epoch 3/3\n",
    "26639/26639 [==============================] - 249s 9ms/step - loss: 0.4590 - mae: 0.4290 - val_loss: 1.8785 - val_mae: 0.9827 - lr: 0.0010\n",
    "\n",
    "\n",
    "\n",
    "With sliding_window of width=100, step=10\n",
    "\n",
    "Epoch 1/3\n",
    "8178/8178 [==============================] - 165s 19ms/step - loss: 1.2933 - mae: 0.8060 - val_loss: 1.0728 - val_mae: 0.7669 - lr: 0.0010\n",
    "Epoch 2/3\n",
    "8178/8178 [==============================] - 106s 13ms/step - loss: 0.9541 - mae: 0.6773 - val_loss: 1.0577 - val_mae: 0.7357 - lr: 0.0010\n",
    "Epoch 3/3\n",
    "8178/8178 [==============================] - 105s 13ms/step - loss: 0.8883 - mae: 0.6438 - val_loss: 1.0535 - val_mae: 0.6935 - lr: 0.0010\n",
    "\n",
    "```"
   ],
   "metadata": {
    "collapsed": false
   },
   "id": "a219f4b2f1d8a3fa"
  },
  {
   "cell_type": "code",
   "execution_count": null,
   "outputs": [],
   "source": [
    "list(zip(validation_reviews[:10], model(validation_reviews_padded[:10]), validation_ratings[:10]))"
   ],
   "metadata": {
    "collapsed": false,
    "is_executing": true
   },
   "id": "c6e0daf98addaedd"
  },
  {
   "cell_type": "code",
   "execution_count": null,
   "outputs": [],
   "source": [],
   "metadata": {
    "collapsed": false
   },
   "id": "c3ffc1a0fea901d1"
  },
  {
   "cell_type": "code",
   "execution_count": null,
   "outputs": [],
   "source": [
    "# epochs = 1\n",
    "# history = model.fit(\n",
    "#     train_dataset,\n",
    "#     validation_data=validation_dataset,\n",
    "#     epochs=epochs,\n",
    "#     callbacks=[reduce_lr_callback],\n",
    "# )"
   ],
   "metadata": {
    "collapsed": false,
    "is_executing": true
   },
   "id": "d89797200dc65529"
  },
  {
   "cell_type": "code",
   "execution_count": null,
   "outputs": [],
   "source": [],
   "metadata": {
    "collapsed": false,
    "is_executing": true
   },
   "id": "d9a192b08299a735"
  },
  {
   "cell_type": "code",
   "execution_count": null,
   "outputs": [],
   "source": [
    "acc = history.history[\"mae\"]\n",
    "val_acc = history.history[\"val_mae\"]\n",
    "\n",
    "loss = history.history[\"loss\"]\n",
    "val_loss = history.history[\"val_loss\"]\n",
    "\n",
    "epochs_range = range(epochs)\n",
    "\n",
    "plt.figure(figsize=(8, 8))\n",
    "plt.subplot(2, 1, 1)\n",
    "plt.plot(epochs_range, acc, label=\"Training MAE\")\n",
    "plt.plot(epochs_range, val_acc, label=\"Validation MAE\")\n",
    "plt.legend(loc=\"lower left\")\n",
    "plt.title(\"Training and Validation MAE\")\n",
    "\n",
    "plt.subplot(2, 1, 2)\n",
    "plt.plot(epochs_range, loss, label=\"Training Loss\")\n",
    "plt.plot(epochs_range, val_loss, label=\"Validation Loss\")\n",
    "plt.legend(loc=\"lower left\")\n",
    "plt.title(\"Training and Validation Loss\")\n",
    "plt.show()"
   ],
   "metadata": {
    "collapsed": false,
    "is_executing": true
   },
   "id": "f7fdbbaa96d80c35"
  },
  {
   "cell_type": "code",
   "execution_count": null,
   "outputs": [],
   "source": [],
   "metadata": {
    "collapsed": false,
    "is_executing": true
   },
   "id": "768a02f346d3a72e"
  },
  {
   "cell_type": "code",
   "execution_count": null,
   "outputs": [],
   "source": [
    "model.save(\"tmp/model.h5\", save_format=\"h5\")"
   ],
   "metadata": {
    "collapsed": false,
    "is_executing": true
   },
   "id": "34c111a7500f86d1"
  },
  {
   "cell_type": "code",
   "execution_count": null,
   "outputs": [],
   "source": [],
   "metadata": {
    "collapsed": false,
    "is_executing": true
   },
   "id": "5553265c5a8988f3"
  }
 ],
 "metadata": {
  "kernelspec": {
   "display_name": "Python 3",
   "language": "python",
   "name": "python3"
  },
  "language_info": {
   "codemirror_mode": {
    "name": "ipython",
    "version": 2
   },
   "file_extension": ".py",
   "mimetype": "text/x-python",
   "name": "python",
   "nbconvert_exporter": "python",
   "pygments_lexer": "ipython2",
   "version": "2.7.6"
  }
 },
 "nbformat": 4,
 "nbformat_minor": 5
}
